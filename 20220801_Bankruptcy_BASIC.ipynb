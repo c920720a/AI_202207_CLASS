{
 "cells": [
  {
   "cell_type": "markdown",
   "metadata": {},
   "source": [
    "### 데이터 셋\n",
    "* train.csv\n",
    "* test.csv\n",
    "* submission_example.csv"
   ]
  },
  {
   "cell_type": "markdown",
   "metadata": {},
   "source": [
    "### 사이트에서 데이터 설명을 보고 싶으나 페이지를 못 찾음..."
   ]
  },
  {
   "cell_type": "code",
   "execution_count": 1,
   "metadata": {},
   "outputs": [],
   "source": [
    "import pandas as pd     # 데이터 분석, 처리를 위해\n",
    "import seaborn as sns             # 시각화\n",
    "import matplotlib.pyplot as plt   # 시각화\n",
    "import numpy as np      # 기본 배열, 계산\n",
    "\n",
    "from sklearn.model_selection import train_test_split"
   ]
  },
  {
   "cell_type": "code",
   "execution_count": 2,
   "metadata": {},
   "outputs": [
    {
     "data": {
      "text/plain": [
       "((800, 22), (200, 21), (200, 2))"
      ]
     },
     "execution_count": 2,
     "metadata": {},
     "output_type": "execute_result"
    }
   ],
   "source": [
    "# 데이터 불러오기\n",
    "\n",
    "train = pd.read_csv(\"./data/Bankruptcy/train.csv\")\n",
    "test = pd.read_csv(\"./data/Bankruptcy/test.csv\")\n",
    "sub = pd.read_csv(\"./data/Bankruptcy/submission_example.csv\")\n",
    "\n",
    "train.shape, test.shape, sub.shape"
   ]
  },
  {
   "cell_type": "code",
   "execution_count": 3,
   "metadata": {},
   "outputs": [
    {
     "data": {
      "text/plain": [
       "Index(['id', 'sum', 'term', 'payment', 'guarantees', 'reason', 'credits',\n",
       "       'other_credits', 'credit_report', 'marital_status', 'age', 'employment',\n",
       "       'qualification', 'immigrant', 'residence_since', 'accommodation',\n",
       "       'estate', 'savings', 'dependents', 'phone', 'status', 'bankruptcy'],\n",
       "      dtype='object')"
      ]
     },
     "execution_count": 3,
     "metadata": {},
     "output_type": "execute_result"
    }
   ],
   "source": [
    "# 데이터를 살펴보자\n",
    "\n",
    "train.columns"
   ]
  },
  {
   "cell_type": "code",
   "execution_count": 4,
   "metadata": {},
   "outputs": [
    {
     "data": {
      "text/plain": [
       "Index(['id', 'sum', 'term', 'payment', 'guarantees', 'reason', 'credits',\n",
       "       'other_credits', 'credit_report', 'marital_status', 'age', 'employment',\n",
       "       'qualification', 'immigrant', 'residence_since', 'accommodation',\n",
       "       'estate', 'savings', 'dependents', 'phone', 'status'],\n",
       "      dtype='object')"
      ]
     },
     "execution_count": 4,
     "metadata": {},
     "output_type": "execute_result"
    }
   ],
   "source": [
    "test.columns"
   ]
  },
  {
   "cell_type": "code",
   "execution_count": 5,
   "metadata": {},
   "outputs": [
    {
     "name": "stdout",
     "output_type": "stream",
     "text": [
      "<class 'pandas.core.frame.DataFrame'>\n",
      "RangeIndex: 800 entries, 0 to 799\n",
      "Data columns (total 22 columns):\n",
      " #   Column           Non-Null Count  Dtype \n",
      "---  ------           --------------  ----- \n",
      " 0   id               800 non-null    int64 \n",
      " 1   sum              800 non-null    int64 \n",
      " 2   term             800 non-null    int64 \n",
      " 3   payment          800 non-null    int64 \n",
      " 4   guarantees       800 non-null    object\n",
      " 5   reason           800 non-null    object\n",
      " 6   credits          800 non-null    int64 \n",
      " 7   other_credits    800 non-null    object\n",
      " 8   credit_report    800 non-null    object\n",
      " 9   marital_status   800 non-null    object\n",
      " 10  age              800 non-null    int64 \n",
      " 11  employment       800 non-null    object\n",
      " 12  qualification    800 non-null    object\n",
      " 13  immigrant        800 non-null    object\n",
      " 14  residence_since  800 non-null    int64 \n",
      " 15  accommodation    800 non-null    object\n",
      " 16  estate           800 non-null    object\n",
      " 17  savings          800 non-null    object\n",
      " 18  dependents       800 non-null    int64 \n",
      " 19  phone            800 non-null    object\n",
      " 20  status           800 non-null    object\n",
      " 21  bankruptcy       800 non-null    int64 \n",
      "dtypes: int64(9), object(13)\n",
      "memory usage: 137.6+ KB\n"
     ]
    }
   ],
   "source": [
    "train.info()"
   ]
  },
  {
   "cell_type": "code",
   "execution_count": 6,
   "metadata": {},
   "outputs": [
    {
     "name": "stdout",
     "output_type": "stream",
     "text": [
      "<class 'pandas.core.frame.DataFrame'>\n",
      "RangeIndex: 200 entries, 0 to 199\n",
      "Data columns (total 21 columns):\n",
      " #   Column           Non-Null Count  Dtype \n",
      "---  ------           --------------  ----- \n",
      " 0   id               200 non-null    int64 \n",
      " 1   sum              200 non-null    int64 \n",
      " 2   term             200 non-null    int64 \n",
      " 3   payment          200 non-null    int64 \n",
      " 4   guarantees       200 non-null    object\n",
      " 5   reason           200 non-null    object\n",
      " 6   credits          200 non-null    int64 \n",
      " 7   other_credits    200 non-null    object\n",
      " 8   credit_report    200 non-null    object\n",
      " 9   marital_status   200 non-null    object\n",
      " 10  age              200 non-null    int64 \n",
      " 11  employment       200 non-null    object\n",
      " 12  qualification    200 non-null    object\n",
      " 13  immigrant        200 non-null    object\n",
      " 14  residence_since  200 non-null    int64 \n",
      " 15  accommodation    200 non-null    object\n",
      " 16  estate           200 non-null    object\n",
      " 17  savings          200 non-null    object\n",
      " 18  dependents       200 non-null    int64 \n",
      " 19  phone            200 non-null    object\n",
      " 20  status           200 non-null    object\n",
      "dtypes: int64(8), object(13)\n",
      "memory usage: 32.9+ KB\n"
     ]
    }
   ],
   "source": [
    "test.info()"
   ]
  },
  {
   "cell_type": "markdown",
   "metadata": {},
   "source": [
    "* bankruptcy를 예측\n",
    "* train 데이터는 800개, test 데이터는 200개\n",
    "* 결측치는 없어서 다 사용할 수 있음"
   ]
  },
  {
   "cell_type": "code",
   "execution_count": 7,
   "metadata": {},
   "outputs": [
    {
     "data": {
      "text/html": [
       "<div>\n",
       "<style scoped>\n",
       "    .dataframe tbody tr th:only-of-type {\n",
       "        vertical-align: middle;\n",
       "    }\n",
       "\n",
       "    .dataframe tbody tr th {\n",
       "        vertical-align: top;\n",
       "    }\n",
       "\n",
       "    .dataframe thead th {\n",
       "        text-align: right;\n",
       "    }\n",
       "</style>\n",
       "<table border=\"1\" class=\"dataframe\">\n",
       "  <thead>\n",
       "    <tr style=\"text-align: right;\">\n",
       "      <th></th>\n",
       "      <th>id</th>\n",
       "      <th>sum</th>\n",
       "      <th>term</th>\n",
       "      <th>payment</th>\n",
       "      <th>guarantees</th>\n",
       "      <th>reason</th>\n",
       "      <th>credits</th>\n",
       "      <th>other_credits</th>\n",
       "      <th>credit_report</th>\n",
       "      <th>marital_status</th>\n",
       "      <th>...</th>\n",
       "      <th>qualification</th>\n",
       "      <th>immigrant</th>\n",
       "      <th>residence_since</th>\n",
       "      <th>accommodation</th>\n",
       "      <th>estate</th>\n",
       "      <th>savings</th>\n",
       "      <th>dependents</th>\n",
       "      <th>phone</th>\n",
       "      <th>status</th>\n",
       "      <th>bankruptcy</th>\n",
       "    </tr>\n",
       "  </thead>\n",
       "  <tbody>\n",
       "    <tr>\n",
       "      <th>0</th>\n",
       "      <td>0</td>\n",
       "      <td>1169</td>\n",
       "      <td>6</td>\n",
       "      <td>4</td>\n",
       "      <td>none</td>\n",
       "      <td>television or radio</td>\n",
       "      <td>2</td>\n",
       "      <td>none</td>\n",
       "      <td>critical account or other credits existing(not...</td>\n",
       "      <td>male single</td>\n",
       "      <td>...</td>\n",
       "      <td>skilled employee</td>\n",
       "      <td>yes</td>\n",
       "      <td>4</td>\n",
       "      <td>own</td>\n",
       "      <td>real estate</td>\n",
       "      <td>unknown or no savings account</td>\n",
       "      <td>1</td>\n",
       "      <td>yes</td>\n",
       "      <td>less-than 0 cu</td>\n",
       "      <td>0</td>\n",
       "    </tr>\n",
       "    <tr>\n",
       "      <th>1</th>\n",
       "      <td>1</td>\n",
       "      <td>5951</td>\n",
       "      <td>48</td>\n",
       "      <td>2</td>\n",
       "      <td>none</td>\n",
       "      <td>television or radio</td>\n",
       "      <td>1</td>\n",
       "      <td>none</td>\n",
       "      <td>existing credits paid back duly till now</td>\n",
       "      <td>female divorced or separated or married</td>\n",
       "      <td>...</td>\n",
       "      <td>skilled employee</td>\n",
       "      <td>yes</td>\n",
       "      <td>2</td>\n",
       "      <td>own</td>\n",
       "      <td>real estate</td>\n",
       "      <td>less-than 100 cu</td>\n",
       "      <td>1</td>\n",
       "      <td>none</td>\n",
       "      <td>0 to 200 cu</td>\n",
       "      <td>1</td>\n",
       "    </tr>\n",
       "    <tr>\n",
       "      <th>2</th>\n",
       "      <td>2</td>\n",
       "      <td>2096</td>\n",
       "      <td>12</td>\n",
       "      <td>2</td>\n",
       "      <td>none</td>\n",
       "      <td>education</td>\n",
       "      <td>1</td>\n",
       "      <td>none</td>\n",
       "      <td>critical account or other credits existing(not...</td>\n",
       "      <td>male single</td>\n",
       "      <td>...</td>\n",
       "      <td>unskilled resident</td>\n",
       "      <td>yes</td>\n",
       "      <td>3</td>\n",
       "      <td>own</td>\n",
       "      <td>real estate</td>\n",
       "      <td>less-than 100 cu</td>\n",
       "      <td>2</td>\n",
       "      <td>none</td>\n",
       "      <td>no checking account</td>\n",
       "      <td>0</td>\n",
       "    </tr>\n",
       "    <tr>\n",
       "      <th>3</th>\n",
       "      <td>3</td>\n",
       "      <td>7882</td>\n",
       "      <td>42</td>\n",
       "      <td>2</td>\n",
       "      <td>guarantor</td>\n",
       "      <td>furniture or equipment</td>\n",
       "      <td>1</td>\n",
       "      <td>none</td>\n",
       "      <td>existing credits paid back duly till now</td>\n",
       "      <td>male single</td>\n",
       "      <td>...</td>\n",
       "      <td>skilled employee</td>\n",
       "      <td>yes</td>\n",
       "      <td>4</td>\n",
       "      <td>for free</td>\n",
       "      <td>building society savings agreement or life ins...</td>\n",
       "      <td>less-than 100 cu</td>\n",
       "      <td>2</td>\n",
       "      <td>none</td>\n",
       "      <td>less-than 0 cu</td>\n",
       "      <td>0</td>\n",
       "    </tr>\n",
       "    <tr>\n",
       "      <th>4</th>\n",
       "      <td>4</td>\n",
       "      <td>4870</td>\n",
       "      <td>24</td>\n",
       "      <td>3</td>\n",
       "      <td>none</td>\n",
       "      <td>new car</td>\n",
       "      <td>2</td>\n",
       "      <td>none</td>\n",
       "      <td>delay in paying off in the past</td>\n",
       "      <td>male single</td>\n",
       "      <td>...</td>\n",
       "      <td>skilled employee</td>\n",
       "      <td>yes</td>\n",
       "      <td>4</td>\n",
       "      <td>for free</td>\n",
       "      <td>unknown or no property</td>\n",
       "      <td>less-than 100 cu</td>\n",
       "      <td>2</td>\n",
       "      <td>none</td>\n",
       "      <td>less-than 0 cu</td>\n",
       "      <td>1</td>\n",
       "    </tr>\n",
       "  </tbody>\n",
       "</table>\n",
       "<p>5 rows × 22 columns</p>\n",
       "</div>"
      ],
      "text/plain": [
       "   id   sum  term  payment guarantees                  reason  credits  \\\n",
       "0   0  1169     6        4       none     television or radio        2   \n",
       "1   1  5951    48        2       none     television or radio        1   \n",
       "2   2  2096    12        2       none               education        1   \n",
       "3   3  7882    42        2  guarantor  furniture or equipment        1   \n",
       "4   4  4870    24        3       none                 new car        2   \n",
       "\n",
       "  other_credits                                      credit_report  \\\n",
       "0          none  critical account or other credits existing(not...   \n",
       "1          none           existing credits paid back duly till now   \n",
       "2          none  critical account or other credits existing(not...   \n",
       "3          none           existing credits paid back duly till now   \n",
       "4          none                    delay in paying off in the past   \n",
       "\n",
       "                            marital_status  ...       qualification immigrant  \\\n",
       "0                              male single  ...    skilled employee       yes   \n",
       "1  female divorced or separated or married  ...    skilled employee       yes   \n",
       "2                              male single  ...  unskilled resident       yes   \n",
       "3                              male single  ...    skilled employee       yes   \n",
       "4                              male single  ...    skilled employee       yes   \n",
       "\n",
       "  residence_since accommodation  \\\n",
       "0               4           own   \n",
       "1               2           own   \n",
       "2               3           own   \n",
       "3               4      for free   \n",
       "4               4      for free   \n",
       "\n",
       "                                              estate  \\\n",
       "0                                        real estate   \n",
       "1                                        real estate   \n",
       "2                                        real estate   \n",
       "3  building society savings agreement or life ins...   \n",
       "4                             unknown or no property   \n",
       "\n",
       "                         savings dependents phone               status  \\\n",
       "0  unknown or no savings account          1   yes       less-than 0 cu   \n",
       "1               less-than 100 cu          1  none          0 to 200 cu   \n",
       "2               less-than 100 cu          2  none  no checking account   \n",
       "3               less-than 100 cu          2  none       less-than 0 cu   \n",
       "4               less-than 100 cu          2  none       less-than 0 cu   \n",
       "\n",
       "  bankruptcy  \n",
       "0          0  \n",
       "1          1  \n",
       "2          0  \n",
       "3          0  \n",
       "4          1  \n",
       "\n",
       "[5 rows x 22 columns]"
      ]
     },
     "execution_count": 7,
     "metadata": {},
     "output_type": "execute_result"
    }
   ],
   "source": [
    "train.head()"
   ]
  },
  {
   "cell_type": "code",
   "execution_count": 8,
   "metadata": {},
   "outputs": [],
   "source": [
    "# 지난 시간에 배운 중간에 생략되는 열과 행 보이도록 하기\n",
    "pd.set_option('display.max_row', None)\n",
    "pd.set_option('display.max_columns', None)"
   ]
  },
  {
   "cell_type": "code",
   "execution_count": 9,
   "metadata": {},
   "outputs": [
    {
     "data": {
      "text/html": [
       "<div>\n",
       "<style scoped>\n",
       "    .dataframe tbody tr th:only-of-type {\n",
       "        vertical-align: middle;\n",
       "    }\n",
       "\n",
       "    .dataframe tbody tr th {\n",
       "        vertical-align: top;\n",
       "    }\n",
       "\n",
       "    .dataframe thead th {\n",
       "        text-align: right;\n",
       "    }\n",
       "</style>\n",
       "<table border=\"1\" class=\"dataframe\">\n",
       "  <thead>\n",
       "    <tr style=\"text-align: right;\">\n",
       "      <th></th>\n",
       "      <th>id</th>\n",
       "      <th>sum</th>\n",
       "      <th>term</th>\n",
       "      <th>payment</th>\n",
       "      <th>guarantees</th>\n",
       "      <th>reason</th>\n",
       "      <th>credits</th>\n",
       "      <th>other_credits</th>\n",
       "      <th>credit_report</th>\n",
       "      <th>marital_status</th>\n",
       "      <th>age</th>\n",
       "      <th>employment</th>\n",
       "      <th>qualification</th>\n",
       "      <th>immigrant</th>\n",
       "      <th>residence_since</th>\n",
       "      <th>accommodation</th>\n",
       "      <th>estate</th>\n",
       "      <th>savings</th>\n",
       "      <th>dependents</th>\n",
       "      <th>phone</th>\n",
       "      <th>status</th>\n",
       "      <th>bankruptcy</th>\n",
       "    </tr>\n",
       "  </thead>\n",
       "  <tbody>\n",
       "    <tr>\n",
       "      <th>0</th>\n",
       "      <td>0</td>\n",
       "      <td>1169</td>\n",
       "      <td>6</td>\n",
       "      <td>4</td>\n",
       "      <td>none</td>\n",
       "      <td>television or radio</td>\n",
       "      <td>2</td>\n",
       "      <td>none</td>\n",
       "      <td>critical account or other credits existing(not...</td>\n",
       "      <td>male single</td>\n",
       "      <td>67</td>\n",
       "      <td>7+ y.</td>\n",
       "      <td>skilled employee</td>\n",
       "      <td>yes</td>\n",
       "      <td>4</td>\n",
       "      <td>own</td>\n",
       "      <td>real estate</td>\n",
       "      <td>unknown or no savings account</td>\n",
       "      <td>1</td>\n",
       "      <td>yes</td>\n",
       "      <td>less-than 0 cu</td>\n",
       "      <td>0</td>\n",
       "    </tr>\n",
       "    <tr>\n",
       "      <th>1</th>\n",
       "      <td>1</td>\n",
       "      <td>5951</td>\n",
       "      <td>48</td>\n",
       "      <td>2</td>\n",
       "      <td>none</td>\n",
       "      <td>television or radio</td>\n",
       "      <td>1</td>\n",
       "      <td>none</td>\n",
       "      <td>existing credits paid back duly till now</td>\n",
       "      <td>female divorced or separated or married</td>\n",
       "      <td>22</td>\n",
       "      <td>1 to 4 y.</td>\n",
       "      <td>skilled employee</td>\n",
       "      <td>yes</td>\n",
       "      <td>2</td>\n",
       "      <td>own</td>\n",
       "      <td>real estate</td>\n",
       "      <td>less-than 100 cu</td>\n",
       "      <td>1</td>\n",
       "      <td>none</td>\n",
       "      <td>0 to 200 cu</td>\n",
       "      <td>1</td>\n",
       "    </tr>\n",
       "    <tr>\n",
       "      <th>2</th>\n",
       "      <td>2</td>\n",
       "      <td>2096</td>\n",
       "      <td>12</td>\n",
       "      <td>2</td>\n",
       "      <td>none</td>\n",
       "      <td>education</td>\n",
       "      <td>1</td>\n",
       "      <td>none</td>\n",
       "      <td>critical account or other credits existing(not...</td>\n",
       "      <td>male single</td>\n",
       "      <td>49</td>\n",
       "      <td>4 to 7 y.</td>\n",
       "      <td>unskilled resident</td>\n",
       "      <td>yes</td>\n",
       "      <td>3</td>\n",
       "      <td>own</td>\n",
       "      <td>real estate</td>\n",
       "      <td>less-than 100 cu</td>\n",
       "      <td>2</td>\n",
       "      <td>none</td>\n",
       "      <td>no checking account</td>\n",
       "      <td>0</td>\n",
       "    </tr>\n",
       "    <tr>\n",
       "      <th>3</th>\n",
       "      <td>3</td>\n",
       "      <td>7882</td>\n",
       "      <td>42</td>\n",
       "      <td>2</td>\n",
       "      <td>guarantor</td>\n",
       "      <td>furniture or equipment</td>\n",
       "      <td>1</td>\n",
       "      <td>none</td>\n",
       "      <td>existing credits paid back duly till now</td>\n",
       "      <td>male single</td>\n",
       "      <td>45</td>\n",
       "      <td>4 to 7 y.</td>\n",
       "      <td>skilled employee</td>\n",
       "      <td>yes</td>\n",
       "      <td>4</td>\n",
       "      <td>for free</td>\n",
       "      <td>building society savings agreement or life ins...</td>\n",
       "      <td>less-than 100 cu</td>\n",
       "      <td>2</td>\n",
       "      <td>none</td>\n",
       "      <td>less-than 0 cu</td>\n",
       "      <td>0</td>\n",
       "    </tr>\n",
       "    <tr>\n",
       "      <th>4</th>\n",
       "      <td>4</td>\n",
       "      <td>4870</td>\n",
       "      <td>24</td>\n",
       "      <td>3</td>\n",
       "      <td>none</td>\n",
       "      <td>new car</td>\n",
       "      <td>2</td>\n",
       "      <td>none</td>\n",
       "      <td>delay in paying off in the past</td>\n",
       "      <td>male single</td>\n",
       "      <td>53</td>\n",
       "      <td>1 to 4 y.</td>\n",
       "      <td>skilled employee</td>\n",
       "      <td>yes</td>\n",
       "      <td>4</td>\n",
       "      <td>for free</td>\n",
       "      <td>unknown or no property</td>\n",
       "      <td>less-than 100 cu</td>\n",
       "      <td>2</td>\n",
       "      <td>none</td>\n",
       "      <td>less-than 0 cu</td>\n",
       "      <td>1</td>\n",
       "    </tr>\n",
       "  </tbody>\n",
       "</table>\n",
       "</div>"
      ],
      "text/plain": [
       "   id   sum  term  payment guarantees                  reason  credits  \\\n",
       "0   0  1169     6        4       none     television or radio        2   \n",
       "1   1  5951    48        2       none     television or radio        1   \n",
       "2   2  2096    12        2       none               education        1   \n",
       "3   3  7882    42        2  guarantor  furniture or equipment        1   \n",
       "4   4  4870    24        3       none                 new car        2   \n",
       "\n",
       "  other_credits                                      credit_report  \\\n",
       "0          none  critical account or other credits existing(not...   \n",
       "1          none           existing credits paid back duly till now   \n",
       "2          none  critical account or other credits existing(not...   \n",
       "3          none           existing credits paid back duly till now   \n",
       "4          none                    delay in paying off in the past   \n",
       "\n",
       "                            marital_status  age employment  \\\n",
       "0                              male single   67      7+ y.   \n",
       "1  female divorced or separated or married   22  1 to 4 y.   \n",
       "2                              male single   49  4 to 7 y.   \n",
       "3                              male single   45  4 to 7 y.   \n",
       "4                              male single   53  1 to 4 y.   \n",
       "\n",
       "        qualification immigrant  residence_since accommodation  \\\n",
       "0    skilled employee       yes                4           own   \n",
       "1    skilled employee       yes                2           own   \n",
       "2  unskilled resident       yes                3           own   \n",
       "3    skilled employee       yes                4      for free   \n",
       "4    skilled employee       yes                4      for free   \n",
       "\n",
       "                                              estate  \\\n",
       "0                                        real estate   \n",
       "1                                        real estate   \n",
       "2                                        real estate   \n",
       "3  building society savings agreement or life ins...   \n",
       "4                             unknown or no property   \n",
       "\n",
       "                         savings  dependents phone               status  \\\n",
       "0  unknown or no savings account           1   yes       less-than 0 cu   \n",
       "1               less-than 100 cu           1  none          0 to 200 cu   \n",
       "2               less-than 100 cu           2  none  no checking account   \n",
       "3               less-than 100 cu           2  none       less-than 0 cu   \n",
       "4               less-than 100 cu           2  none       less-than 0 cu   \n",
       "\n",
       "   bankruptcy  \n",
       "0           0  \n",
       "1           1  \n",
       "2           0  \n",
       "3           0  \n",
       "4           1  "
      ]
     },
     "execution_count": 9,
     "metadata": {},
     "output_type": "execute_result"
    }
   ],
   "source": [
    "train.head()"
   ]
  },
  {
   "cell_type": "code",
   "execution_count": 24,
   "metadata": {},
   "outputs": [
    {
     "data": {
      "text/plain": [
       "<AxesSubplot:xlabel='credits', ylabel='count'>"
      ]
     },
     "execution_count": 24,
     "metadata": {},
     "output_type": "execute_result"
    },
    {
     "data": {
      "image/png": "[encoded data removed]",
      "text/plain": [
       "<Figure size 936x360 with 2 Axes>"
      ]
     },
     "metadata": {
      "needs_background": "light"
     },
     "output_type": "display_data"
    }
   ],
   "source": [
    "# 데이터 전처리가 필요하겠다\n",
    "# 일단 숫자 payment와 bankruptcy의 관계를 찍어보자\n",
    "\n",
    "plt.figure(figsize=(13,5) )\n",
    "plt.subplot(1,2,1)\n",
    "sns.countplot(x=\"payment\", hue=\"bankruptcy\",  data=train)\n",
    "\n",
    "plt.subplot(1,2,2)\n",
    "sns.countplot(x=\"credits\", hue=\"bankruptcy\",  data=train)"
   ]
  },
  {
   "cell_type": "code",
   "execution_count": 25,
   "metadata": {},
   "outputs": [
    {
     "data": {
      "text/plain": [
       "Index(['id', 'sum', 'term', 'payment', 'guarantees', 'reason', 'credits',\n",
       "       'other_credits', 'credit_report', 'marital_status', 'age', 'employment',\n",
       "       'qualification', 'immigrant', 'residence_since', 'accommodation',\n",
       "       'estate', 'savings', 'dependents', 'phone', 'status', 'bankruptcy'],\n",
       "      dtype='object')"
      ]
     },
     "execution_count": 25,
     "metadata": {},
     "output_type": "execute_result"
    }
   ],
   "source": [
    "# 그냥 다 넣고 기본 모델 만들기\n",
    "train.columns"
   ]
  },
  {
   "cell_type": "code",
   "execution_count": 26,
   "metadata": {},
   "outputs": [],
   "source": [
    "sel = ['sum', 'term', 'payment', 'credits', 'age', 'residence_since', 'dependents']\n",
    "\n",
    "X = train[sel]\n",
    "y = train['bankruptcy']\n",
    "\n",
    "X_train, X_test, y_train, y_test = train_test_split(X, y, \n",
    "                                                   test_size=0.3,\n",
    "                                                   random_state = 0)"
   ]
  },
  {
   "cell_type": "code",
   "execution_count": 27,
   "metadata": {},
   "outputs": [],
   "source": [
    "from sklearn.neighbors import KNeighborsClassifier\n",
    "from sklearn.tree import DecisionTreeClassifier\n",
    "from sklearn.ensemble import RandomForestClassifier"
   ]
  },
  {
   "cell_type": "code",
   "execution_count": 28,
   "metadata": {},
   "outputs": [
    {
     "name": "stdout",
     "output_type": "stream",
     "text": [
      "학습용 정확도 :  0.75\n",
      "테스트용 정확도 :  0.6583333333333333\n",
      "학습용 정확도 :  0.7125\n",
      "테스트용 정확도 :  0.7\n",
      "학습용 정확도 :  0.9375\n",
      "테스트용 정확도 :  0.6333333333333333\n"
     ]
    }
   ],
   "source": [
    "model_KNN = KNeighborsClassifier()\n",
    "model_KNN.fit(X_train, y_train)\n",
    "print(\"학습용 정확도 : \", model_KNN.score(X_train, y_train))\n",
    "print(\"테스트용 정확도 : \", model_KNN.score(X_test, y_test))\n",
    "\n",
    "model_Tree = DecisionTreeClassifier(max_depth=2, random_state=0) #임의값\n",
    "model_Tree.fit(X_train, y_train)\n",
    "print(\"학습용 정확도 : \", model_Tree.score(X_train, y_train))\n",
    "print(\"테스트용 정확도 : \", model_Tree.score(X_test, y_test))\n",
    "\n",
    "model_ENS = RandomForestClassifier(n_estimators=3, random_state=0) #임의값\n",
    "model_ENS.fit(X_train, y_train)\n",
    "print(\"학습용 정확도 : \", model_ENS.score(X_train, y_train))\n",
    "print(\"테스트용 정확도 : \", model_ENS.score(X_test, y_test))"
   ]
  },
  {
   "cell_type": "code",
   "execution_count": 31,
   "metadata": {},
   "outputs": [
    {
     "name": "stdout",
     "output_type": "stream",
     "text": [
      "max_depth : 1\n",
      "훈련 세트 정확도 : 0.702\n",
      "테스트 세트 정확도 : 0.700\n",
      "max_depth : 2\n",
      "훈련 세트 정확도 : 0.713\n",
      "테스트 세트 정확도 : 0.700\n",
      "max_depth : 3\n",
      "훈련 세트 정확도 : 0.743\n",
      "테스트 세트 정확도 : 0.671\n",
      "max_depth : 4\n",
      "훈련 세트 정확도 : 0.762\n",
      "테스트 세트 정확도 : 0.679\n",
      "max_depth : 5\n",
      "훈련 세트 정확도 : 0.777\n",
      "테스트 세트 정확도 : 0.708\n",
      "max_depth : 6\n",
      "훈련 세트 정확도 : 0.820\n",
      "테스트 세트 정확도 : 0.667\n"
     ]
    }
   ],
   "source": [
    "# 의사결정트리 복잡도 변경\n",
    "for i in range(1,7,1):\n",
    "    model_Tree = DecisionTreeClassifier(max_depth=i, random_state=0)\n",
    "    model_Tree.fit(X_train, y_train)\n",
    "    print(f\"max_depth : {i}\")\n",
    "    print(\"훈련 세트 정확도 : {:.3f}\".format(model_Tree.score(X_train, y_train)))\n",
    "    print(\"테스트 세트 정확도 : {:.3f}\".format(model_Tree.score(X_test, y_test)))"
   ]
  },
  {
   "cell_type": "code",
   "execution_count": 32,
   "metadata": {},
   "outputs": [
    {
     "name": "stdout",
     "output_type": "stream",
     "text": [
      "학습용 정확도 :  0.7767857142857143\n",
      "테스트용 정확도 :  0.7083333333333334\n"
     ]
    }
   ],
   "source": [
    "model_Tree = DecisionTreeClassifier(max_depth=5, random_state=0)\n",
    "model_Tree.fit(X_train, y_train)\n",
    "print(\"학습용 정확도 : \", model_Tree.score(X_train, y_train))\n",
    "print(\"테스트용 정확도 : \", model_Tree.score(X_test, y_test))"
   ]
  },
  {
   "cell_type": "code",
   "execution_count": 33,
   "metadata": {},
   "outputs": [
    {
     "name": "stdout",
     "output_type": "stream",
     "text": [
      "max_depth : 1\n",
      "훈련 세트 정확도 : 0.864\n",
      "테스트 세트 정확도 : 0.592\n",
      "max_depth : 2\n",
      "훈련 세트 정확도 : 0.871\n",
      "테스트 세트 정확도 : 0.642\n",
      "max_depth : 3\n",
      "훈련 세트 정확도 : 0.938\n",
      "테스트 세트 정확도 : 0.633\n",
      "max_depth : 4\n",
      "훈련 세트 정확도 : 0.914\n",
      "테스트 세트 정확도 : 0.662\n",
      "max_depth : 5\n",
      "훈련 세트 정확도 : 0.954\n",
      "테스트 세트 정확도 : 0.667\n",
      "max_depth : 6\n",
      "훈련 세트 정확도 : 0.952\n",
      "테스트 세트 정확도 : 0.721\n",
      "max_depth : 7\n",
      "훈련 세트 정확도 : 0.973\n",
      "테스트 세트 정확도 : 0.696\n",
      "max_depth : 8\n",
      "훈련 세트 정확도 : 0.968\n",
      "테스트 세트 정확도 : 0.713\n",
      "max_depth : 9\n",
      "훈련 세트 정확도 : 0.984\n",
      "테스트 세트 정확도 : 0.704\n"
     ]
    }
   ],
   "source": [
    "# 의사결정트리 복잡도 변경\n",
    "for i in range(1,10,1):\n",
    "    model_ENS = RandomForestClassifier(n_estimators=i, random_state=0)\n",
    "    model_ENS.fit(X_train, y_train)\n",
    "    print(f\"max_depth : {i}\")\n",
    "    print(\"훈련 세트 정확도 : {:.3f}\".format(model_ENS.score(X_train, y_train)))\n",
    "    print(\"테스트 세트 정확도 : {:.3f}\".format(model_ENS.score(X_test, y_test)))"
   ]
  },
  {
   "cell_type": "code",
   "execution_count": 34,
   "metadata": {},
   "outputs": [
    {
     "name": "stdout",
     "output_type": "stream",
     "text": [
      "학습용 정확도 :  0.75\n",
      "테스트용 정확도 :  0.6583333333333333\n",
      "학습용 정확도 :  0.7767857142857143\n",
      "테스트용 정확도 :  0.7083333333333334\n",
      "학습용 정확도 :  0.9517857142857142\n",
      "테스트용 정확도 :  0.7208333333333333\n"
     ]
    }
   ],
   "source": [
    "model_KNN = KNeighborsClassifier()\n",
    "model_KNN.fit(X_train, y_train)\n",
    "print(\"학습용 정확도 : \", model_KNN.score(X_train, y_train))\n",
    "print(\"테스트용 정확도 : \", model_KNN.score(X_test, y_test))\n",
    "\n",
    "model_Tree = DecisionTreeClassifier(max_depth=5, random_state=0)\n",
    "model_Tree.fit(X_train, y_train)\n",
    "print(\"학습용 정확도 : \", model_Tree.score(X_train, y_train))\n",
    "print(\"테스트용 정확도 : \", model_Tree.score(X_test, y_test))\n",
    "\n",
    "model_ENS = RandomForestClassifier(n_estimators=6, random_state=0)\n",
    "model_ENS.fit(X_train, y_train)\n",
    "print(\"학습용 정확도 : \", model_ENS.score(X_train, y_train))\n",
    "print(\"테스트용 정확도 : \", model_ENS.score(X_test, y_test))"
   ]
  },
  {
   "cell_type": "code",
   "execution_count": 37,
   "metadata": {},
   "outputs": [
    {
     "name": "stdout",
     "output_type": "stream",
     "text": [
      "학습용 정확도 :  0.7767857142857143\n",
      "테스트용 정확도 :  0.7083333333333334\n"
     ]
    }
   ],
   "source": [
    "model_Tree = DecisionTreeClassifier(max_depth=5, random_state=0)\n",
    "model_Tree.fit(X_train, y_train)\n",
    "print(\"학습용 정확도 : \", model_Tree.score(X_train, y_train))\n",
    "print(\"테스트용 정확도 : \", model_Tree.score(X_test, y_test))"
   ]
  },
  {
   "cell_type": "markdown",
   "metadata": {},
   "source": [
    "* 사이트를 몰라 제출 못 함...\n",
    "* 데이터 전처리, 데이터 변경, 인코딩\n",
    "* 확률 예측 predict_proba() 예측해보기"
   ]
  }
 ],
 "metadata": {
  "kernelspec": {
   "display_name": "Python 3",
   "language": "python",
   "name": "python3"
  },
  "language_info": {
   "codemirror_mode": {
    "name": "ipython",
    "version": 3
   },
   "file_extension": ".py",
   "mimetype": "text/x-python",
   "name": "python",
   "nbconvert_exporter": "python",
   "pygments_lexer": "ipython3",
   "version": "3.8.5"
  }
 },
 "nbformat": 4,
 "nbformat_minor": 4
}
