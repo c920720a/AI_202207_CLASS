{
  "nbformat": 4,
  "nbformat_minor": 0,
  "metadata": {
    "colab": {
      "name": "20220726_class_ML.ipynb",
      "provenance": [],
      "collapsed_sections": []
    },
    "kernelspec": {
      "name": "python3",
      "display_name": "Python 3"
    },
    "language_info": {
      "name": "python"
    }
  },
  "cells": [
    {
      "cell_type": "markdown",
      "source": [
        "2022/07/26\n",
        "머신러닝 기본"
      ],
      "metadata": {
        "id": "5shnBFU5gMhi"
      }
    },
    {
      "cell_type": "code",
      "execution_count": 1,
      "metadata": {
        "colab": {
          "base_uri": "https://localhost:8080/"
        },
        "id": "rTaS69aZgF5E",
        "outputId": "ac854de6-dec8-4ff4-bb33-e0fecf57ee66"
      },
      "outputs": [
        {
          "output_type": "stream",
          "name": "stdout",
          "text": [
            "Unknown System\n"
          ]
        }
      ],
      "source": [
        "### 한글 폰트 설정\n",
        "import matplotlib\n",
        "from matplotlib import font_manager, rc\n",
        "import matplotlib.pyplot as plt\n",
        "import platform\n",
        "\n",
        "path = \"C:/Windows/Fonts/malgun.ttf\"\n",
        "if platform.system() == \"Windows\":\n",
        "    font_name = font_manager.FontProperties(fname=path).get_name()\n",
        "    rc('font', family=font_name)\n",
        "elif platform.system()==\"Darwin\":\n",
        "    rc('font', family='AppleGothic')\n",
        "else:\n",
        "    print(\"Unknown System\")\n",
        "    \n",
        "matplotlib.rcParams['axes.unicode_minus'] = False\n",
        "\n",
        "%matplotlib inline"
      ]
    },
    {
      "cell_type": "code",
      "source": [
        "!pip install mglearn"
      ],
      "metadata": {
        "colab": {
          "base_uri": "https://localhost:8080/"
        },
        "id": "srIRdfaDgXUB",
        "outputId": "d7ace10a-0e82-449e-d34a-650f457ec91c"
      },
      "execution_count": 3,
      "outputs": [
        {
          "output_type": "stream",
          "name": "stdout",
          "text": [
            "Looking in indexes: https://pypi.org/simple, https://us-python.pkg.dev/colab-wheels/public/simple/\n",
            "Collecting mglearn\n",
            "  Downloading mglearn-0.1.9.tar.gz (540 kB)\n",
            "\u001b[K     |████████████████████████████████| 540 kB 5.0 MB/s \n",
            "\u001b[?25hRequirement already satisfied: numpy in /usr/local/lib/python3.7/dist-packages (from mglearn) (1.21.6)\n",
            "Requirement already satisfied: matplotlib in /usr/local/lib/python3.7/dist-packages (from mglearn) (3.2.2)\n",
            "Requirement already satisfied: scikit-learn in /usr/local/lib/python3.7/dist-packages (from mglearn) (1.0.2)\n",
            "Requirement already satisfied: pandas in /usr/local/lib/python3.7/dist-packages (from mglearn) (1.3.5)\n",
            "Requirement already satisfied: pillow in /usr/local/lib/python3.7/dist-packages (from mglearn) (7.1.2)\n",
            "Requirement already satisfied: cycler in /usr/local/lib/python3.7/dist-packages (from mglearn) (0.11.0)\n",
            "Requirement already satisfied: imageio in /usr/local/lib/python3.7/dist-packages (from mglearn) (2.4.1)\n",
            "Requirement already satisfied: joblib in /usr/local/lib/python3.7/dist-packages (from mglearn) (1.1.0)\n",
            "Requirement already satisfied: pyparsing!=2.0.4,!=2.1.2,!=2.1.6,>=2.0.1 in /usr/local/lib/python3.7/dist-packages (from matplotlib->mglearn) (3.0.9)\n",
            "Requirement already satisfied: kiwisolver>=1.0.1 in /usr/local/lib/python3.7/dist-packages (from matplotlib->mglearn) (1.4.4)\n",
            "Requirement already satisfied: python-dateutil>=2.1 in /usr/local/lib/python3.7/dist-packages (from matplotlib->mglearn) (2.8.2)\n",
            "Requirement already satisfied: typing-extensions in /usr/local/lib/python3.7/dist-packages (from kiwisolver>=1.0.1->matplotlib->mglearn) (4.1.1)\n",
            "Requirement already satisfied: six>=1.5 in /usr/local/lib/python3.7/dist-packages (from python-dateutil>=2.1->matplotlib->mglearn) (1.15.0)\n",
            "Requirement already satisfied: pytz>=2017.3 in /usr/local/lib/python3.7/dist-packages (from pandas->mglearn) (2022.1)\n",
            "Requirement already satisfied: threadpoolctl>=2.0.0 in /usr/local/lib/python3.7/dist-packages (from scikit-learn->mglearn) (3.1.0)\n",
            "Requirement already satisfied: scipy>=1.1.0 in /usr/local/lib/python3.7/dist-packages (from scikit-learn->mglearn) (1.7.3)\n",
            "Building wheels for collected packages: mglearn\n",
            "  Building wheel for mglearn (setup.py) ... \u001b[?25l\u001b[?25hdone\n",
            "  Created wheel for mglearn: filename=mglearn-0.1.9-py2.py3-none-any.whl size=582639 sha256=ef39d4d966fe72e5a7c26443af0be816eb5b51e97502f09bac490ecef6815ccc\n",
            "  Stored in directory: /root/.cache/pip/wheels/f1/17/e1/1720d6dcd70187b6b6c3750cb3508798f2b1d57c9d3214b08b\n",
            "Successfully built mglearn\n",
            "Installing collected packages: mglearn\n",
            "Successfully installed mglearn-0.1.9\n"
          ]
        }
      ]
    },
    {
      "cell_type": "code",
      "source": [
        "import mglearn\n",
        "import matplotlib.pyplot as plt\n",
        "import pandas as pd\n",
        "import numpy as np\n",
        "\n",
        "%matplotlib inline"
      ],
      "metadata": {
        "id": "j6oz3gWIgRN6"
      },
      "execution_count": 4,
      "outputs": []
    },
    {
      "cell_type": "code",
      "source": [
        "mglearn.plots.plot_knn_regression(n_neighbors=1)"
      ],
      "metadata": {
        "colab": {
          "base_uri": "https://localhost:8080/",
          "height": 414
        },
        "id": "R6GjVbn8gUJ6",
        "outputId": "6970f669-10c4-42fc-b3ac-1f74a3bc9d77"
      },
      "execution_count": 5,
      "outputs": [
        {
          "output_type": "display_data",
          "data": {
            "text/plain": [
              "<Figure size 720x432 with 1 Axes>"
            ],
            "image/png": "[encoded data removed]"
          },
          "metadata": {
            "needs_background": "light"
          }
        }
      ]
    },
    {
      "cell_type": "code",
      "source": [
        "mglearn.plots.plot_knn_regression(n_neighbors=3)"
      ],
      "metadata": {
        "colab": {
          "base_uri": "https://localhost:8080/",
          "height": 414
        },
        "id": "BxH1lFUageDh",
        "outputId": "7eae5159-2f16-44e6-f815-77b959b8a482"
      },
      "execution_count": 6,
      "outputs": [
        {
          "output_type": "display_data",
          "data": {
            "text/plain": [
              "<Figure size 720x432 with 1 Axes>"
            ],
            "image/png": "[encoded data removed]"
          },
          "metadata": {
            "needs_background": "light"
          }
        }
      ]
    },
    {
      "cell_type": "code",
      "source": [
        "from sklearn.neighbors import KNeighborsClassifier\n",
        "from sklearn.model_selection import train_test_split"
      ],
      "metadata": {
        "id": "CnEBeowMgf3p"
      },
      "execution_count": 7,
      "outputs": []
    },
    {
      "cell_type": "code",
      "source": [
        "X, y = mglearn.datasets.make_forge()\n",
        "\n",
        "X_train, X_test, y_train, y_test = train_test_split(X, y, \n",
        "                                             random_state=0)"
      ],
      "metadata": {
        "colab": {
          "base_uri": "https://localhost:8080/"
        },
        "id": "A6XOq2IXghUZ",
        "outputId": "7ef71195-e39d-47e9-e384-065001ab7197"
      },
      "execution_count": 8,
      "outputs": [
        {
          "output_type": "stream",
          "name": "stderr",
          "text": [
            "/usr/local/lib/python3.7/dist-packages/sklearn/utils/deprecation.py:87: FutureWarning: Function make_blobs is deprecated; Please import make_blobs directly from scikit-learn\n",
            "  warnings.warn(msg, category=FutureWarning)\n"
          ]
        }
      ]
    },
    {
      "cell_type": "code",
      "source": [
        "fig, axes = plt.subplots(1, 3, figsize=(10, 3))\n",
        "\n",
        "for n_neighbors, ax in zip([1, 3, 9], axes):\n",
        "    # fit 메소드는 self 오브젝트를 리턴합니다\n",
        "    # 그래서 객체 생성과 fit 메소드를 한 줄에 쓸 수 있습니다\n",
        "    model = KNeighborsClassifier(n_neighbors=n_neighbors).fit(X, y)\n",
        "    mglearn.plots.plot_2d_separator(model, X, \n",
        "                                    fill=True, eps=0.5, ax=ax, alpha=.4)\n",
        "    \n",
        "    mglearn.discrete_scatter(X[:, 0], X[:, 1], y, ax=ax)\n",
        "    ax.set_title(\"{} 이웃\".format(n_neighbors))\n",
        "    ax.set_xlabel(\"특성 0\")\n",
        "    ax.set_ylabel(\"특성 1\")\n",
        "axes[0].legend(loc=3)"
      ],
      "metadata": {
        "colab": {
          "base_uri": "https://localhost:8080/",
          "height": 555
        },
        "id": "Gb3Jppxbgi9w",
        "outputId": "a0b33944-f742-43fb-e5ca-fc91e867002c"
      },
      "execution_count": 9,
      "outputs": [
        {
          "output_type": "execute_result",
          "data": {
            "text/plain": [
              "<matplotlib.legend.Legend at 0x7f7290f87810>"
            ]
          },
          "metadata": {},
          "execution_count": 9
        },
        {
          "output_type": "stream",
          "name": "stderr",
          "text": [
            "/usr/local/lib/python3.7/dist-packages/matplotlib/backends/backend_agg.py:214: RuntimeWarning: Glyph 51060 missing from current font.\n",
            "  font.set_text(s, 0.0, flags=flags)\n",
            "/usr/local/lib/python3.7/dist-packages/matplotlib/backends/backend_agg.py:214: RuntimeWarning: Glyph 50883 missing from current font.\n",
            "  font.set_text(s, 0.0, flags=flags)\n",
            "/usr/local/lib/python3.7/dist-packages/matplotlib/backends/backend_agg.py:214: RuntimeWarning: Glyph 53945 missing from current font.\n",
            "  font.set_text(s, 0.0, flags=flags)\n",
            "/usr/local/lib/python3.7/dist-packages/matplotlib/backends/backend_agg.py:214: RuntimeWarning: Glyph 49457 missing from current font.\n",
            "  font.set_text(s, 0.0, flags=flags)\n",
            "/usr/local/lib/python3.7/dist-packages/matplotlib/backends/backend_agg.py:183: RuntimeWarning: Glyph 53945 missing from current font.\n",
            "  font.set_text(s, 0, flags=flags)\n",
            "/usr/local/lib/python3.7/dist-packages/matplotlib/backends/backend_agg.py:183: RuntimeWarning: Glyph 49457 missing from current font.\n",
            "  font.set_text(s, 0, flags=flags)\n",
            "/usr/local/lib/python3.7/dist-packages/matplotlib/backends/backend_agg.py:183: RuntimeWarning: Glyph 51060 missing from current font.\n",
            "  font.set_text(s, 0, flags=flags)\n",
            "/usr/local/lib/python3.7/dist-packages/matplotlib/backends/backend_agg.py:183: RuntimeWarning: Glyph 50883 missing from current font.\n",
            "  font.set_text(s, 0, flags=flags)\n"
          ]
        },
        {
          "output_type": "display_data",
          "data": {
            "text/plain": [
              "<Figure size 720x216 with 3 Axes>"
            ],
            "image/png": "[encoded data removed]"
          },
          "metadata": {}
        }
      ]
    },
    {
      "cell_type": "code",
      "source": [
        "from sklearn.datasets import load_breast_cancer\n",
        "import matplotlib.pyplot as plt"
      ],
      "metadata": {
        "id": "Rf915UmrgkwA"
      },
      "execution_count": 10,
      "outputs": []
    },
    {
      "cell_type": "code",
      "source": [
        "cancer = load_breast_cancer()\n",
        "print(\"cancer.keys() : \\n{}\".format(cancer.keys()))\n",
        "print(\"유방암 데이터의 행열 : {}\".format(cancer.data.shape))"
      ],
      "metadata": {
        "colab": {
          "base_uri": "https://localhost:8080/"
        },
        "id": "WWoo8VXCgnah",
        "outputId": "2665f51e-3b46-410b-944c-55681e2edf30"
      },
      "execution_count": 11,
      "outputs": [
        {
          "output_type": "stream",
          "name": "stdout",
          "text": [
            "cancer.keys() : \n",
            "dict_keys(['data', 'target', 'frame', 'target_names', 'DESCR', 'feature_names', 'filename', 'data_module'])\n",
            "유방암 데이터의 행열 : (569, 30)\n"
          ]
        }
      ]
    },
    {
      "cell_type": "code",
      "source": [
        "print(\"특성이름(featuer_names) : {}\".format(cancer['feature_names']))\n",
        "print(\"유방암 데이터의 형태 : \", cancer.data.shape)\n",
        "print()\n",
        "print(\"클래스 이름(target_names) : {}\".format(cancer['target_names']))\n",
        "print(\"클래스별 샘플 개수 : \\n\",np.bincount(cancer.target))"
      ],
      "metadata": {
        "colab": {
          "base_uri": "https://localhost:8080/"
        },
        "id": "mBMOPSNcgpKT",
        "outputId": "9d40084f-1760-45df-ba1e-0becd07fb9c1"
      },
      "execution_count": 12,
      "outputs": [
        {
          "output_type": "stream",
          "name": "stdout",
          "text": [
            "특성이름(featuer_names) : ['mean radius' 'mean texture' 'mean perimeter' 'mean area'\n",
            " 'mean smoothness' 'mean compactness' 'mean concavity'\n",
            " 'mean concave points' 'mean symmetry' 'mean fractal dimension'\n",
            " 'radius error' 'texture error' 'perimeter error' 'area error'\n",
            " 'smoothness error' 'compactness error' 'concavity error'\n",
            " 'concave points error' 'symmetry error' 'fractal dimension error'\n",
            " 'worst radius' 'worst texture' 'worst perimeter' 'worst area'\n",
            " 'worst smoothness' 'worst compactness' 'worst concavity'\n",
            " 'worst concave points' 'worst symmetry' 'worst fractal dimension']\n",
            "유방암 데이터의 형태 :  (569, 30)\n",
            "\n",
            "클래스 이름(target_names) : ['malignant' 'benign']\n",
            "클래스별 샘플 개수 : \n",
            " [212 357]\n"
          ]
        }
      ]
    },
    {
      "cell_type": "code",
      "source": [
        "from sklearn.model_selection import train_test_split"
      ],
      "metadata": {
        "id": "-gMYQZ8Ggqwp"
      },
      "execution_count": 13,
      "outputs": []
    },
    {
      "cell_type": "code",
      "source": [
        "X = cancer.data\n",
        "y = cancer.target\n",
        "\n",
        "X_train, X_test, y_train, y_test = train_test_split(X, y,\n",
        "                                      stratify=cancer.target,\n",
        "                                      random_state=77)"
      ],
      "metadata": {
        "id": "FV7fNSjWgsEQ"
      },
      "execution_count": 14,
      "outputs": []
    },
    {
      "cell_type": "code",
      "source": [
        "print( len(y_train) )\n",
        "y_1_all = (y == 1).sum() \n",
        "y_0_all =  (y == 0).sum() \n",
        "\n",
        "print(f\"target y의 \\n 0의 개수 : {y_0_all} \\n 1의 개수 : {y_1_all}\")"
      ],
      "metadata": {
        "colab": {
          "base_uri": "https://localhost:8080/"
        },
        "id": "vYA5Ht4WgtTD",
        "outputId": "f0245bbb-f9e5-4141-a63c-53bf9cd5ecc6"
      },
      "execution_count": 15,
      "outputs": [
        {
          "output_type": "stream",
          "name": "stdout",
          "text": [
            "426\n",
            "target y의 \n",
            " 0의 개수 : 212 \n",
            " 1의 개수 : 357\n"
          ]
        }
      ]
    },
    {
      "cell_type": "code",
      "source": [
        "y_train_1 = (y_train == 1).sum()\n",
        "y_test_1 = (y_test == 1).sum()\n",
        "\n",
        "y_train_0 = len(y_train) - (y_train == 1).sum()\n",
        "y_test_0 = len(y_test) - (y_test == 1).sum()\n",
        "\n",
        "print(\"데이터 셋의 target(학습:테스트)의 비율 - 1에 대해서\")\n",
        "print(f\"train비율 : {y_train_1/y_1_all}, test비율 : {y_test_1/y_1_all}\")\n",
        "\n",
        "print(\"데이터 셋의 target(학습:테스트)의 비율 - 0에 대해서\")\n",
        "print(f\"train비율 : {y_train_0/y_0_all}, test비율 : {y_test_0/y_0_all}\")"
      ],
      "metadata": {
        "colab": {
          "base_uri": "https://localhost:8080/"
        },
        "id": "g-YFiSreguvp",
        "outputId": "85d12f22-a373-4811-c2dd-8d8ca327b4eb"
      },
      "execution_count": 16,
      "outputs": [
        {
          "output_type": "stream",
          "name": "stdout",
          "text": [
            "데이터 셋의 target(학습:테스트)의 비율 - 1에 대해서\n",
            "train비율 : 0.7478991596638656, test비율 : 0.25210084033613445\n",
            "데이터 셋의 target(학습:테스트)의 비율 - 0에 대해서\n",
            "train비율 : 0.75, test비율 : 0.25\n"
          ]
        }
      ]
    },
    {
      "cell_type": "code",
      "source": [
        "from sklearn.neighbors import KNeighborsClassifier\n",
        "\n",
        "model = KNeighborsClassifier(n_neighbors=3)  # 모델 선택\n",
        "model.fit(X_train, y_train)\n",
        "pred = model.predict(X_test)\n",
        "pred"
      ],
      "metadata": {
        "colab": {
          "base_uri": "https://localhost:8080/"
        },
        "id": "kvcSKWkKgwap",
        "outputId": "1e361f94-a84d-4404-f037-bf4312fbfcf6"
      },
      "execution_count": 17,
      "outputs": [
        {
          "output_type": "execute_result",
          "data": {
            "text/plain": [
              "array([1, 0, 0, 1, 1, 0, 0, 1, 0, 0, 1, 1, 1, 1, 1, 1, 1, 0, 0, 0, 0, 1,\n",
              "       0, 0, 1, 1, 1, 0, 0, 1, 0, 1, 0, 0, 1, 1, 0, 1, 1, 1, 0, 1, 0, 0,\n",
              "       1, 1, 1, 1, 1, 0, 1, 1, 1, 1, 0, 1, 0, 1, 1, 1, 0, 1, 1, 1, 1, 1,\n",
              "       1, 1, 1, 1, 0, 0, 1, 0, 1, 1, 1, 0, 1, 1, 0, 1, 1, 0, 1, 1, 1, 1,\n",
              "       1, 1, 0, 0, 1, 1, 1, 1, 1, 1, 1, 0, 0, 0, 1, 0, 1, 1, 0, 1, 0, 0,\n",
              "       1, 1, 1, 1, 0, 0, 1, 1, 1, 0, 1, 1, 1, 1, 1, 0, 1, 0, 1, 0, 1, 0,\n",
              "       1, 0, 0, 0, 0, 0, 1, 0, 0, 1, 1])"
            ]
          },
          "metadata": {},
          "execution_count": 17
        }
      ]
    },
    {
      "cell_type": "code",
      "source": [
        "(pred == y_test).sum() / (len(pred)) * 100"
      ],
      "metadata": {
        "colab": {
          "base_uri": "https://localhost:8080/"
        },
        "id": "bgRF1Rzxgxwp",
        "outputId": "6268efcf-7e6c-4c6d-d684-e5df8129f50f"
      },
      "execution_count": 18,
      "outputs": [
        {
          "output_type": "execute_result",
          "data": {
            "text/plain": [
              "90.9090909090909"
            ]
          },
          "metadata": {},
          "execution_count": 18
        }
      ]
    },
    {
      "cell_type": "code",
      "source": [
        "acc_tr = model.score(X_train, y_train)   # 정확도(학습용 데이터)\n",
        "acc_test = model.score(X_test, y_test)   # 정확도(테스트 데이터)\n",
        "acc_tr, acc_test"
      ],
      "metadata": {
        "colab": {
          "base_uri": "https://localhost:8080/"
        },
        "id": "q59uyTRvg0x5",
        "outputId": "34449dd7-fbe2-41a0-b6fe-9592a912239b"
      },
      "execution_count": 19,
      "outputs": [
        {
          "output_type": "execute_result",
          "data": {
            "text/plain": [
              "(0.9553990610328639, 0.9090909090909091)"
            ]
          },
          "metadata": {},
          "execution_count": 19
        }
      ]
    },
    {
      "cell_type": "code",
      "source": [
        "k_list = []\n",
        "tr_acc = []\n",
        "test_acc = []\n",
        "k_nums = range(1, 22, 2)# 1,3,5~21\n",
        "\n",
        "for n in k_nums:\n",
        "    # 모델 선택 및 학습 \n",
        "    model = KNeighborsClassifier(n_neighbors=n)\n",
        "    model.fit(X_train, y_train)\n",
        "    \n",
        "    # 정확도 구하기 \n",
        "    acc_tr = model.score(X_train, y_train)\n",
        "    acc_test = model.score(X_test, y_test)\n",
        "    \n",
        "    # 정확도 값 저장.\n",
        "    k_list.append(n)\n",
        "    tr_acc.append(acc_tr)\n",
        "    test_acc.append(acc_test)\n",
        "    \n",
        "    print(\"k : \", n)\n",
        "    print(\"학습용셋 정확도 {:.3f}\".format(acc_tr) )\n",
        "    print(\"테스트용셋 정확도 {:.3f}\".format(acc_test) )"
      ],
      "metadata": {
        "colab": {
          "base_uri": "https://localhost:8080/"
        },
        "id": "7y0RDaOTg2lZ",
        "outputId": "86937b12-6325-4e84-9bf7-35c4089da18c"
      },
      "execution_count": 20,
      "outputs": [
        {
          "output_type": "stream",
          "name": "stdout",
          "text": [
            "k :  1\n",
            "학습용셋 정확도 1.000\n",
            "테스트용셋 정확도 0.888\n",
            "k :  3\n",
            "학습용셋 정확도 0.955\n",
            "테스트용셋 정확도 0.909\n",
            "k :  5\n",
            "학습용셋 정확도 0.953\n",
            "테스트용셋 정확도 0.916\n",
            "k :  7\n",
            "학습용셋 정확도 0.953\n",
            "테스트용셋 정확도 0.909\n",
            "k :  9\n",
            "학습용셋 정확도 0.946\n",
            "테스트용셋 정확도 0.909\n",
            "k :  11\n",
            "학습용셋 정확도 0.939\n",
            "테스트용셋 정확도 0.909\n",
            "k :  13\n",
            "학습용셋 정확도 0.937\n",
            "테스트용셋 정확도 0.916\n",
            "k :  15\n",
            "학습용셋 정확도 0.939\n",
            "테스트용셋 정확도 0.916\n",
            "k :  17\n",
            "학습용셋 정확도 0.934\n",
            "테스트용셋 정확도 0.923\n",
            "k :  19\n",
            "학습용셋 정확도 0.937\n",
            "테스트용셋 정확도 0.923\n",
            "k :  21\n",
            "학습용셋 정확도 0.934\n",
            "테스트용셋 정확도 0.923\n"
          ]
        }
      ]
    },
    {
      "cell_type": "code",
      "source": [
        "# tr_acc = []\n",
        "# test_acc = []\n",
        "dat = { \"tr_acc\":tr_acc, \"test_acc\":test_acc }\n",
        "data_df = pd.DataFrame(dat, index=k_list)\n",
        "data_df"
      ],
      "metadata": {
        "colab": {
          "base_uri": "https://localhost:8080/",
          "height": 394
        },
        "id": "4vu7Wzt9g5Cx",
        "outputId": "162e43dc-bdcd-4c7d-fcbc-a635500c40ac"
      },
      "execution_count": 21,
      "outputs": [
        {
          "output_type": "execute_result",
          "data": {
            "text/plain": [
              "      tr_acc  test_acc\n",
              "1   1.000000  0.888112\n",
              "3   0.955399  0.909091\n",
              "5   0.953052  0.916084\n",
              "7   0.953052  0.909091\n",
              "9   0.946009  0.909091\n",
              "11  0.938967  0.909091\n",
              "13  0.936620  0.916084\n",
              "15  0.938967  0.916084\n",
              "17  0.934272  0.923077\n",
              "19  0.936620  0.923077\n",
              "21  0.934272  0.923077"
            ],
            "text/html": [
              "\n",
              "  <div id=\"df-96bb0af8-60fa-4d19-a0cb-f2d1f5ded8ea\">\n",
              "    <div class=\"colab-df-container\">\n",
              "      <div>\n",
              "<style scoped>\n",
              "    .dataframe tbody tr th:only-of-type {\n",
              "        vertical-align: middle;\n",
              "    }\n",
              "\n",
              "    .dataframe tbody tr th {\n",
              "        vertical-align: top;\n",
              "    }\n",
              "\n",
              "    .dataframe thead th {\n",
              "        text-align: right;\n",
              "    }\n",
              "</style>\n",
              "<table border=\"1\" class=\"dataframe\">\n",
              "  <thead>\n",
              "    <tr style=\"text-align: right;\">\n",
              "      <th></th>\n",
              "      <th>tr_acc</th>\n",
              "      <th>test_acc</th>\n",
              "    </tr>\n",
              "  </thead>\n",
              "  <tbody>\n",
              "    <tr>\n",
              "      <th>1</th>\n",
              "      <td>1.000000</td>\n",
              "      <td>0.888112</td>\n",
              "    </tr>\n",
              "    <tr>\n",
              "      <th>3</th>\n",
              "      <td>0.955399</td>\n",
              "      <td>0.909091</td>\n",
              "    </tr>\n",
              "    <tr>\n",
              "      <th>5</th>\n",
              "      <td>0.953052</td>\n",
              "      <td>0.916084</td>\n",
              "    </tr>\n",
              "    <tr>\n",
              "      <th>7</th>\n",
              "      <td>0.953052</td>\n",
              "      <td>0.909091</td>\n",
              "    </tr>\n",
              "    <tr>\n",
              "      <th>9</th>\n",
              "      <td>0.946009</td>\n",
              "      <td>0.909091</td>\n",
              "    </tr>\n",
              "    <tr>\n",
              "      <th>11</th>\n",
              "      <td>0.938967</td>\n",
              "      <td>0.909091</td>\n",
              "    </tr>\n",
              "    <tr>\n",
              "      <th>13</th>\n",
              "      <td>0.936620</td>\n",
              "      <td>0.916084</td>\n",
              "    </tr>\n",
              "    <tr>\n",
              "      <th>15</th>\n",
              "      <td>0.938967</td>\n",
              "      <td>0.916084</td>\n",
              "    </tr>\n",
              "    <tr>\n",
              "      <th>17</th>\n",
              "      <td>0.934272</td>\n",
              "      <td>0.923077</td>\n",
              "    </tr>\n",
              "    <tr>\n",
              "      <th>19</th>\n",
              "      <td>0.936620</td>\n",
              "      <td>0.923077</td>\n",
              "    </tr>\n",
              "    <tr>\n",
              "      <th>21</th>\n",
              "      <td>0.934272</td>\n",
              "      <td>0.923077</td>\n",
              "    </tr>\n",
              "  </tbody>\n",
              "</table>\n",
              "</div>\n",
              "      <button class=\"colab-df-convert\" onclick=\"convertToInteractive('df-96bb0af8-60fa-4d19-a0cb-f2d1f5ded8ea')\"\n",
              "              title=\"Convert this dataframe to an interactive table.\"\n",
              "              style=\"display:none;\">\n",
              "        \n",
              "  <svg xmlns=\"http://www.w3.org/2000/svg\" height=\"24px\"viewBox=\"0 0 24 24\"\n",
              "       width=\"24px\">\n",
              "    <path d=\"M0 0h24v24H0V0z\" fill=\"none\"/>\n",
              "    <path d=\"M18.56 5.44l.94 2.06.94-2.06 2.06-.94-2.06-.94-.94-2.06-.94 2.06-2.06.94zm-11 1L8.5 8.5l.94-2.06 2.06-.94-2.06-.94L8.5 2.5l-.94 2.06-2.06.94zm10 10l.94 2.06.94-2.06 2.06-.94-2.06-.94-.94-2.06-.94 2.06-2.06.94z\"/><path d=\"M17.41 7.96l-1.37-1.37c-.4-.4-.92-.59-1.43-.59-.52 0-1.04.2-1.43.59L10.3 9.45l-7.72 7.72c-.78.78-.78 2.05 0 2.83L4 21.41c.39.39.9.59 1.41.59.51 0 1.02-.2 1.41-.59l7.78-7.78 2.81-2.81c.8-.78.8-2.07 0-2.86zM5.41 20L4 18.59l7.72-7.72 1.47 1.35L5.41 20z\"/>\n",
              "  </svg>\n",
              "      </button>\n",
              "      \n",
              "  <style>\n",
              "    .colab-df-container {\n",
              "      display:flex;\n",
              "      flex-wrap:wrap;\n",
              "      gap: 12px;\n",
              "    }\n",
              "\n",
              "    .colab-df-convert {\n",
              "      background-color: #E8F0FE;\n",
              "      border: none;\n",
              "      border-radius: 50%;\n",
              "      cursor: pointer;\n",
              "      display: none;\n",
              "      fill: #1967D2;\n",
              "      height: 32px;\n",
              "      padding: 0 0 0 0;\n",
              "      width: 32px;\n",
              "    }\n",
              "\n",
              "    .colab-df-convert:hover {\n",
              "      background-color: #E2EBFA;\n",
              "      box-shadow: 0px 1px 2px rgba(60, 64, 67, 0.3), 0px 1px 3px 1px rgba(60, 64, 67, 0.15);\n",
              "      fill: #174EA6;\n",
              "    }\n",
              "\n",
              "    [theme=dark] .colab-df-convert {\n",
              "      background-color: #3B4455;\n",
              "      fill: #D2E3FC;\n",
              "    }\n",
              "\n",
              "    [theme=dark] .colab-df-convert:hover {\n",
              "      background-color: #434B5C;\n",
              "      box-shadow: 0px 1px 3px 1px rgba(0, 0, 0, 0.15);\n",
              "      filter: drop-shadow(0px 1px 2px rgba(0, 0, 0, 0.3));\n",
              "      fill: #FFFFFF;\n",
              "    }\n",
              "  </style>\n",
              "\n",
              "      <script>\n",
              "        const buttonEl =\n",
              "          document.querySelector('#df-96bb0af8-60fa-4d19-a0cb-f2d1f5ded8ea button.colab-df-convert');\n",
              "        buttonEl.style.display =\n",
              "          google.colab.kernel.accessAllowed ? 'block' : 'none';\n",
              "\n",
              "        async function convertToInteractive(key) {\n",
              "          const element = document.querySelector('#df-96bb0af8-60fa-4d19-a0cb-f2d1f5ded8ea');\n",
              "          const dataTable =\n",
              "            await google.colab.kernel.invokeFunction('convertToInteractive',\n",
              "                                                     [key], {});\n",
              "          if (!dataTable) return;\n",
              "\n",
              "          const docLinkHtml = 'Like what you see? Visit the ' +\n",
              "            '<a target=\"_blank\" href=https://colab.research.google.com/notebooks/data_table.ipynb>data table notebook</a>'\n",
              "            + ' to learn more about interactive tables.';\n",
              "          element.innerHTML = '';\n",
              "          dataTable['output_type'] = 'display_data';\n",
              "          await google.colab.output.renderOutput(dataTable, element);\n",
              "          const docLink = document.createElement('div');\n",
              "          docLink.innerHTML = docLinkHtml;\n",
              "          element.appendChild(docLink);\n",
              "        }\n",
              "      </script>\n",
              "    </div>\n",
              "  </div>\n",
              "  "
            ]
          },
          "metadata": {},
          "execution_count": 21
        }
      ]
    },
    {
      "cell_type": "code",
      "source": [
        "import seaborn as sns\n",
        "print(sns.__version__)\n",
        "\n",
        "sns.lineplot(data=data_df, palette=\"tab10\")\n",
        "plt.show()"
      ],
      "metadata": {
        "colab": {
          "base_uri": "https://localhost:8080/",
          "height": 283
        },
        "id": "JAk9Vf94g6v5",
        "outputId": "2ee3f76b-1bfe-4cc0-8f76-c6fdec5d4bf2"
      },
      "execution_count": 22,
      "outputs": [
        {
          "output_type": "stream",
          "name": "stdout",
          "text": [
            "0.11.2\n"
          ]
        },
        {
          "output_type": "display_data",
          "data": {
            "text/plain": [
              "<Figure size 432x288 with 1 Axes>"
            ],
            "image/png": "[encoded data removed]"
          },
          "metadata": {
            "needs_background": "light"
          }
        }
      ]
    },
    {
      "cell_type": "markdown",
      "source": [
        "3-2 k을 1부터 100까지 돌려보고 가장 높은 값을 갖는 k의 값을 구해보자.(댓글 확인- 정확도(학습용, 테스트용)"
      ],
      "metadata": {
        "id": "GhB5VRjbg9R7"
      }
    },
    {
      "cell_type": "code",
      "source": [
        "import numpy as np\n",
        "import matplotlib.pyplot as plt\n",
        "import matplotlib\n",
        "print(\"numpy 버전 : \", np.__version__)\n",
        "print(\"matplotlib 버전 : \", matplotlib.__version__)"
      ],
      "metadata": {
        "colab": {
          "base_uri": "https://localhost:8080/"
        },
        "id": "fYEl4hY9g73Y",
        "outputId": "ed84f727-7151-4965-edac-fa3239436d89"
      },
      "execution_count": 23,
      "outputs": [
        {
          "output_type": "stream",
          "name": "stdout",
          "text": [
            "numpy 버전 :  1.21.6\n",
            "matplotlib 버전 :  3.2.2\n"
          ]
        }
      ]
    },
    {
      "cell_type": "code",
      "source": [
        "# 설치가 안되어 있을 경우, 설치 필요.\n",
        "import mglearn\n",
        "import sklearn\n",
        "print(\"sklearn 버전 : \",  sklearn.__version__)\n",
        "print(\"mglearn 버전 : \",  mglearn.__version__)\n",
        "\n",
        "from sklearn.model_selection import train_test_split\n",
        "from sklearn.linear_model import LinearRegression"
      ],
      "metadata": {
        "colab": {
          "base_uri": "https://localhost:8080/"
        },
        "id": "47o5NnMthAE4",
        "outputId": "65339c44-1383-4b4f-931c-6c90b5b15591"
      },
      "execution_count": 24,
      "outputs": [
        {
          "output_type": "stream",
          "name": "stdout",
          "text": [
            "sklearn 버전 :  1.0.2\n",
            "mglearn 버전 :  0.1.9\n"
          ]
        }
      ]
    },
    {
      "cell_type": "markdown",
      "source": [
        "* 회귀모델\n",
        "      A. 예측하려는 값이 수치형일 때 사용되는 모델\n",
        "      B. MSE(mean squared error) 최소화 시키는 회귀 계수를 찾는다. 회귀계수(w1, w2, ... b)\n",
        "      C. 선형회귀 (Linear Regression)\n",
        "      D. 선형함수로 표현되는데 w와 b가 모델 파라미터가 된다.\n",
        "      E. 특성이 하나일 때 직선 표현, 특성이 두 개일 때\n",
        "         y = w1 * x1 + b 직선\n",
        "         y = w1 * x1 + w2 * x2 + 2 -> 평면\n",
        "         y = w1 * x1 + w2 * x2 + ... + b -> 초평면"
      ],
      "metadata": {
        "id": "n_41kjW7hDTZ"
      }
    },
    {
      "cell_type": "markdown",
      "source": [
        "3-5 train_test_split를 이용해서 데이터 나눠보기(댓글 코드 올리기)"
      ],
      "metadata": {
        "id": "ZJtRFibhiFv1"
      }
    },
    {
      "cell_type": "code",
      "source": [
        "X_train, X_test, y_train, y_test = train_test_split(X, y, random_state=0)"
      ],
      "metadata": {
        "id": "_H2tm9DyhBoJ"
      },
      "execution_count": 25,
      "outputs": []
    },
    {
      "cell_type": "markdown",
      "source": [
        "3-6 (추가 실습) 학습용 70%, 테스트용 30%로 나눠보기"
      ],
      "metadata": {
        "id": "Tj3nuYYQiKmL"
      }
    },
    {
      "cell_type": "code",
      "source": [
        "X_train, X_test, y_train, y_test = train_test_split(X, y,\n",
        "                                           test_size=0.3)"
      ],
      "metadata": {
        "id": "z7I5q65eiIHR"
      },
      "execution_count": 26,
      "outputs": []
    },
    {
      "cell_type": "code",
      "source": [
        "from sklearn.linear_model import LinearRegression"
      ],
      "metadata": {
        "id": "O3j8cKxaiOYj"
      },
      "execution_count": 27,
      "outputs": []
    },
    {
      "cell_type": "code",
      "source": [
        "model = LinearRegression()\n",
        "model.fit(X_train, y_train)\n",
        "\n",
        "# 학습 완료 후, 예측\n",
        "pred = model.predict(X_test)\n",
        "pred"
      ],
      "metadata": {
        "colab": {
          "base_uri": "https://localhost:8080/"
        },
        "id": "YIHbLmCtiRnY",
        "outputId": "95087156-d50c-40fb-d697-1caec55bbf6f"
      },
      "execution_count": 28,
      "outputs": [
        {
          "output_type": "execute_result",
          "data": {
            "text/plain": [
              "array([-1.44595025e-01,  3.06951499e-01,  6.11770241e-01,  6.53190654e-01,\n",
              "        9.89102341e-01,  8.33387728e-01, -3.26714869e-02,  1.04787766e+00,\n",
              "        1.28165970e+00,  2.97951495e-01,  8.60845578e-01,  8.13720227e-01,\n",
              "        6.81511139e-01,  8.65016496e-01, -1.36028044e-01,  1.03766096e+00,\n",
              "        8.21419425e-01,  8.40733055e-01, -1.38062116e-01,  1.13732344e+00,\n",
              "       -8.61855511e-03,  1.09925128e+00,  9.75350713e-01,  1.08792104e+00,\n",
              "       -1.85048658e-01,  1.04784922e+00,  1.91480473e-01,  9.33504056e-01,\n",
              "        6.96701837e-01,  9.34655008e-01,  1.76048566e-01,  9.12622753e-01,\n",
              "        3.30134204e-01,  8.19703955e-01,  1.19714027e+00, -2.47020334e-01,\n",
              "        1.06664099e+00,  8.11098480e-01,  6.39847582e-01,  2.68781336e-01,\n",
              "        1.08012276e+00,  7.15636214e-01, -2.70237488e-01,  9.94719824e-01,\n",
              "        7.79710149e-01, -1.03985195e-01,  7.98218837e-01,  7.63141079e-01,\n",
              "        9.47781585e-01, -2.34746989e-01,  7.83815636e-01,  1.05519984e+00,\n",
              "        1.20110291e+00,  4.68327595e-01,  2.89468288e-01,  3.69042303e-01,\n",
              "        2.60945025e-01,  1.09914959e+00,  9.82646799e-01,  1.05398006e+00,\n",
              "        3.87350466e-01,  8.56204904e-01, -1.39588209e-01,  4.82581932e-01,\n",
              "        7.10194491e-01,  8.65381929e-01, -2.24337601e-01,  3.57279126e-01,\n",
              "        7.69977640e-01,  1.07920309e-02,  7.60274835e-01,  1.25610773e+00,\n",
              "        1.08639672e+00,  8.82500690e-01,  1.31732613e+00,  1.04801473e+00,\n",
              "       -2.36314818e-01,  6.91337325e-01,  3.40578142e-01,  1.08429314e+00,\n",
              "       -3.46562241e-01,  9.91454445e-01,  9.17439095e-01,  2.84422563e-01,\n",
              "        1.18652132e+00,  1.14478826e+00,  1.02884797e+00,  7.26449256e-01,\n",
              "       -5.90201803e-02,  3.16185755e-01,  1.05448827e+00,  1.10662275e+00,\n",
              "        4.56569608e-01,  4.39980429e-01,  9.71166988e-01,  1.58517707e-01,\n",
              "        5.28504485e-01,  9.99000351e-01,  7.03920565e-01, -4.60167487e-02,\n",
              "        5.84790000e-01,  6.63297360e-01,  5.07838076e-01,  1.12846408e+00,\n",
              "        4.13171973e-01,  1.35740436e-01,  4.16077329e-01,  1.04366040e-01,\n",
              "        8.68378746e-01, -1.06113939e-01,  1.12801055e+00,  5.77084535e-01,\n",
              "       -2.27537661e-02,  5.56521572e-02,  8.17337476e-01,  6.84335794e-01,\n",
              "        7.56996506e-01,  9.46520131e-01,  9.12462430e-01, -4.67381006e-02,\n",
              "        7.21617960e-01,  1.36545959e+00,  1.23891996e+00, -1.35696558e-01,\n",
              "       -1.30123574e-01,  8.52675103e-01, -2.67146216e-01,  1.06373816e-01,\n",
              "        6.58805060e-01, -4.95319428e-02, -2.43151808e-02,  8.91077667e-01,\n",
              "        9.97971729e-01,  8.25446090e-01,  8.92375262e-02,  9.37859389e-01,\n",
              "        9.87264769e-01,  6.63906874e-01,  1.50884221e+00, -1.25047286e-03,\n",
              "        3.83838647e-01,  6.68355043e-01, -4.79475815e-02,  3.88384151e-01,\n",
              "       -1.84114898e-01,  8.24806734e-01,  7.15980103e-01,  9.60331505e-01,\n",
              "        7.50660414e-01,  5.38984633e-01,  4.05166517e-01,  8.89135679e-01,\n",
              "        7.41011983e-01,  8.84672505e-01,  9.97182921e-01,  9.26091994e-01,\n",
              "        5.83712073e-01,  5.87330264e-01,  2.35864925e-01,  9.64132346e-01,\n",
              "        9.05497464e-01,  7.98724285e-01,  9.27516010e-01,  5.18584032e-03,\n",
              "        3.56766932e-01,  7.78210628e-01,  6.17520937e-01,  6.85154203e-01,\n",
              "        1.96080251e-01,  9.69370923e-01,  8.16063150e-01])"
            ]
          },
          "metadata": {},
          "execution_count": 28
        }
      ]
    },
    {
      "cell_type": "markdown",
      "source": [
        "##### Q. 왜 X는 대문자로 쓰고, y는 소문자로 쓰는 것일까? -> \n",
        "\n",
        "       scikit-learn에서 데이터는 대문자 X로 표시하고 레이블은 소문자 y로 표기합니다. \n",
        "       이는 수학에서 함수의 입력을 x, 출력을 y로 나타내는 표준 공식 f(x)=y에서 유래된 것입니다. \n",
        "       수학의 표기 방식을 따르되 데이터는 2차원 배열(행렬)이므로 대문자 X를, \n",
        "       타깃은 1차원 배열(벡터)이므로 소문자 y를 사용합니다."
      ],
      "metadata": {
        "id": "ppYSXWLGiUwD"
      }
    },
    {
      "cell_type": "code",
      "source": [
        "## MSE\n",
        "dict_dat = {\"실제값\":y_test, \"예측값\":pred, \"오차\":y_test-pred}\n",
        "dat = pd.DataFrame(dict_dat)\n",
        "dat"
      ],
      "metadata": {
        "colab": {
          "base_uri": "https://localhost:8080/",
          "height": 423
        },
        "id": "ZWy6lXPYiS7I",
        "outputId": "c3037809-2aa6-4778-d34f-03181e5988cb"
      },
      "execution_count": 29,
      "outputs": [
        {
          "output_type": "execute_result",
          "data": {
            "text/plain": [
              "     실제값       예측값        오차\n",
              "0      0 -0.144595  0.144595\n",
              "1      0  0.306951 -0.306951\n",
              "2      1  0.611770  0.388230\n",
              "3      1  0.653191  0.346809\n",
              "4      1  0.989102  0.010898\n",
              "..   ...       ...       ...\n",
              "166    0  0.617521 -0.617521\n",
              "167    1  0.685154  0.314846\n",
              "168    0  0.196080 -0.196080\n",
              "169    1  0.969371  0.030629\n",
              "170    1  0.816063  0.183937\n",
              "\n",
              "[171 rows x 3 columns]"
            ],
            "text/html": [
              "\n",
              "  <div id=\"df-daec4e69-c576-40bd-b1f3-ef5f5a0cb76a\">\n",
              "    <div class=\"colab-df-container\">\n",
              "      <div>\n",
              "<style scoped>\n",
              "    .dataframe tbody tr th:only-of-type {\n",
              "        vertical-align: middle;\n",
              "    }\n",
              "\n",
              "    .dataframe tbody tr th {\n",
              "        vertical-align: top;\n",
              "    }\n",
              "\n",
              "    .dataframe thead th {\n",
              "        text-align: right;\n",
              "    }\n",
              "</style>\n",
              "<table border=\"1\" class=\"dataframe\">\n",
              "  <thead>\n",
              "    <tr style=\"text-align: right;\">\n",
              "      <th></th>\n",
              "      <th>실제값</th>\n",
              "      <th>예측값</th>\n",
              "      <th>오차</th>\n",
              "    </tr>\n",
              "  </thead>\n",
              "  <tbody>\n",
              "    <tr>\n",
              "      <th>0</th>\n",
              "      <td>0</td>\n",
              "      <td>-0.144595</td>\n",
              "      <td>0.144595</td>\n",
              "    </tr>\n",
              "    <tr>\n",
              "      <th>1</th>\n",
              "      <td>0</td>\n",
              "      <td>0.306951</td>\n",
              "      <td>-0.306951</td>\n",
              "    </tr>\n",
              "    <tr>\n",
              "      <th>2</th>\n",
              "      <td>1</td>\n",
              "      <td>0.611770</td>\n",
              "      <td>0.388230</td>\n",
              "    </tr>\n",
              "    <tr>\n",
              "      <th>3</th>\n",
              "      <td>1</td>\n",
              "      <td>0.653191</td>\n",
              "      <td>0.346809</td>\n",
              "    </tr>\n",
              "    <tr>\n",
              "      <th>4</th>\n",
              "      <td>1</td>\n",
              "      <td>0.989102</td>\n",
              "      <td>0.010898</td>\n",
              "    </tr>\n",
              "    <tr>\n",
              "      <th>...</th>\n",
              "      <td>...</td>\n",
              "      <td>...</td>\n",
              "      <td>...</td>\n",
              "    </tr>\n",
              "    <tr>\n",
              "      <th>166</th>\n",
              "      <td>0</td>\n",
              "      <td>0.617521</td>\n",
              "      <td>-0.617521</td>\n",
              "    </tr>\n",
              "    <tr>\n",
              "      <th>167</th>\n",
              "      <td>1</td>\n",
              "      <td>0.685154</td>\n",
              "      <td>0.314846</td>\n",
              "    </tr>\n",
              "    <tr>\n",
              "      <th>168</th>\n",
              "      <td>0</td>\n",
              "      <td>0.196080</td>\n",
              "      <td>-0.196080</td>\n",
              "    </tr>\n",
              "    <tr>\n",
              "      <th>169</th>\n",
              "      <td>1</td>\n",
              "      <td>0.969371</td>\n",
              "      <td>0.030629</td>\n",
              "    </tr>\n",
              "    <tr>\n",
              "      <th>170</th>\n",
              "      <td>1</td>\n",
              "      <td>0.816063</td>\n",
              "      <td>0.183937</td>\n",
              "    </tr>\n",
              "  </tbody>\n",
              "</table>\n",
              "<p>171 rows × 3 columns</p>\n",
              "</div>\n",
              "      <button class=\"colab-df-convert\" onclick=\"convertToInteractive('df-daec4e69-c576-40bd-b1f3-ef5f5a0cb76a')\"\n",
              "              title=\"Convert this dataframe to an interactive table.\"\n",
              "              style=\"display:none;\">\n",
              "        \n",
              "  <svg xmlns=\"http://www.w3.org/2000/svg\" height=\"24px\"viewBox=\"0 0 24 24\"\n",
              "       width=\"24px\">\n",
              "    <path d=\"M0 0h24v24H0V0z\" fill=\"none\"/>\n",
              "    <path d=\"M18.56 5.44l.94 2.06.94-2.06 2.06-.94-2.06-.94-.94-2.06-.94 2.06-2.06.94zm-11 1L8.5 8.5l.94-2.06 2.06-.94-2.06-.94L8.5 2.5l-.94 2.06-2.06.94zm10 10l.94 2.06.94-2.06 2.06-.94-2.06-.94-.94-2.06-.94 2.06-2.06.94z\"/><path d=\"M17.41 7.96l-1.37-1.37c-.4-.4-.92-.59-1.43-.59-.52 0-1.04.2-1.43.59L10.3 9.45l-7.72 7.72c-.78.78-.78 2.05 0 2.83L4 21.41c.39.39.9.59 1.41.59.51 0 1.02-.2 1.41-.59l7.78-7.78 2.81-2.81c.8-.78.8-2.07 0-2.86zM5.41 20L4 18.59l7.72-7.72 1.47 1.35L5.41 20z\"/>\n",
              "  </svg>\n",
              "      </button>\n",
              "      \n",
              "  <style>\n",
              "    .colab-df-container {\n",
              "      display:flex;\n",
              "      flex-wrap:wrap;\n",
              "      gap: 12px;\n",
              "    }\n",
              "\n",
              "    .colab-df-convert {\n",
              "      background-color: #E8F0FE;\n",
              "      border: none;\n",
              "      border-radius: 50%;\n",
              "      cursor: pointer;\n",
              "      display: none;\n",
              "      fill: #1967D2;\n",
              "      height: 32px;\n",
              "      padding: 0 0 0 0;\n",
              "      width: 32px;\n",
              "    }\n",
              "\n",
              "    .colab-df-convert:hover {\n",
              "      background-color: #E2EBFA;\n",
              "      box-shadow: 0px 1px 2px rgba(60, 64, 67, 0.3), 0px 1px 3px 1px rgba(60, 64, 67, 0.15);\n",
              "      fill: #174EA6;\n",
              "    }\n",
              "\n",
              "    [theme=dark] .colab-df-convert {\n",
              "      background-color: #3B4455;\n",
              "      fill: #D2E3FC;\n",
              "    }\n",
              "\n",
              "    [theme=dark] .colab-df-convert:hover {\n",
              "      background-color: #434B5C;\n",
              "      box-shadow: 0px 1px 3px 1px rgba(0, 0, 0, 0.15);\n",
              "      filter: drop-shadow(0px 1px 2px rgba(0, 0, 0, 0.3));\n",
              "      fill: #FFFFFF;\n",
              "    }\n",
              "  </style>\n",
              "\n",
              "      <script>\n",
              "        const buttonEl =\n",
              "          document.querySelector('#df-daec4e69-c576-40bd-b1f3-ef5f5a0cb76a button.colab-df-convert');\n",
              "        buttonEl.style.display =\n",
              "          google.colab.kernel.accessAllowed ? 'block' : 'none';\n",
              "\n",
              "        async function convertToInteractive(key) {\n",
              "          const element = document.querySelector('#df-daec4e69-c576-40bd-b1f3-ef5f5a0cb76a');\n",
              "          const dataTable =\n",
              "            await google.colab.kernel.invokeFunction('convertToInteractive',\n",
              "                                                     [key], {});\n",
              "          if (!dataTable) return;\n",
              "\n",
              "          const docLinkHtml = 'Like what you see? Visit the ' +\n",
              "            '<a target=\"_blank\" href=https://colab.research.google.com/notebooks/data_table.ipynb>data table notebook</a>'\n",
              "            + ' to learn more about interactive tables.';\n",
              "          element.innerHTML = '';\n",
              "          dataTable['output_type'] = 'display_data';\n",
              "          await google.colab.output.renderOutput(dataTable, element);\n",
              "          const docLink = document.createElement('div');\n",
              "          docLink.innerHTML = docLinkHtml;\n",
              "          element.appendChild(docLink);\n",
              "        }\n",
              "      </script>\n",
              "    </div>\n",
              "  </div>\n",
              "  "
            ]
          },
          "metadata": {},
          "execution_count": 29
        }
      ]
    },
    {
      "cell_type": "code",
      "source": [
        "dat['오차절대값'] = abs(dat['오차'])\n",
        "dat['오차제곱'] = dat['오차'] ** (2)\n",
        "dat"
      ],
      "metadata": {
        "colab": {
          "base_uri": "https://localhost:8080/",
          "height": 423
        },
        "id": "mT6c-tx6ilWY",
        "outputId": "11e811e0-dbc1-493c-9e8b-5eb42fe484cf"
      },
      "execution_count": 30,
      "outputs": [
        {
          "output_type": "execute_result",
          "data": {
            "text/plain": [
              "     실제값       예측값        오차     오차절대값      오차제곱\n",
              "0      0 -0.144595  0.144595  0.144595  0.020908\n",
              "1      0  0.306951 -0.306951  0.306951  0.094219\n",
              "2      1  0.611770  0.388230  0.388230  0.150722\n",
              "3      1  0.653191  0.346809  0.346809  0.120277\n",
              "4      1  0.989102  0.010898  0.010898  0.000119\n",
              "..   ...       ...       ...       ...       ...\n",
              "166    0  0.617521 -0.617521  0.617521  0.381332\n",
              "167    1  0.685154  0.314846  0.314846  0.099128\n",
              "168    0  0.196080 -0.196080  0.196080  0.038447\n",
              "169    1  0.969371  0.030629  0.030629  0.000938\n",
              "170    1  0.816063  0.183937  0.183937  0.033833\n",
              "\n",
              "[171 rows x 5 columns]"
            ],
            "text/html": [
              "\n",
              "  <div id=\"df-678408be-d010-4aa1-920a-b1adefa1511d\">\n",
              "    <div class=\"colab-df-container\">\n",
              "      <div>\n",
              "<style scoped>\n",
              "    .dataframe tbody tr th:only-of-type {\n",
              "        vertical-align: middle;\n",
              "    }\n",
              "\n",
              "    .dataframe tbody tr th {\n",
              "        vertical-align: top;\n",
              "    }\n",
              "\n",
              "    .dataframe thead th {\n",
              "        text-align: right;\n",
              "    }\n",
              "</style>\n",
              "<table border=\"1\" class=\"dataframe\">\n",
              "  <thead>\n",
              "    <tr style=\"text-align: right;\">\n",
              "      <th></th>\n",
              "      <th>실제값</th>\n",
              "      <th>예측값</th>\n",
              "      <th>오차</th>\n",
              "      <th>오차절대값</th>\n",
              "      <th>오차제곱</th>\n",
              "    </tr>\n",
              "  </thead>\n",
              "  <tbody>\n",
              "    <tr>\n",
              "      <th>0</th>\n",
              "      <td>0</td>\n",
              "      <td>-0.144595</td>\n",
              "      <td>0.144595</td>\n",
              "      <td>0.144595</td>\n",
              "      <td>0.020908</td>\n",
              "    </tr>\n",
              "    <tr>\n",
              "      <th>1</th>\n",
              "      <td>0</td>\n",
              "      <td>0.306951</td>\n",
              "      <td>-0.306951</td>\n",
              "      <td>0.306951</td>\n",
              "      <td>0.094219</td>\n",
              "    </tr>\n",
              "    <tr>\n",
              "      <th>2</th>\n",
              "      <td>1</td>\n",
              "      <td>0.611770</td>\n",
              "      <td>0.388230</td>\n",
              "      <td>0.388230</td>\n",
              "      <td>0.150722</td>\n",
              "    </tr>\n",
              "    <tr>\n",
              "      <th>3</th>\n",
              "      <td>1</td>\n",
              "      <td>0.653191</td>\n",
              "      <td>0.346809</td>\n",
              "      <td>0.346809</td>\n",
              "      <td>0.120277</td>\n",
              "    </tr>\n",
              "    <tr>\n",
              "      <th>4</th>\n",
              "      <td>1</td>\n",
              "      <td>0.989102</td>\n",
              "      <td>0.010898</td>\n",
              "      <td>0.010898</td>\n",
              "      <td>0.000119</td>\n",
              "    </tr>\n",
              "    <tr>\n",
              "      <th>...</th>\n",
              "      <td>...</td>\n",
              "      <td>...</td>\n",
              "      <td>...</td>\n",
              "      <td>...</td>\n",
              "      <td>...</td>\n",
              "    </tr>\n",
              "    <tr>\n",
              "      <th>166</th>\n",
              "      <td>0</td>\n",
              "      <td>0.617521</td>\n",
              "      <td>-0.617521</td>\n",
              "      <td>0.617521</td>\n",
              "      <td>0.381332</td>\n",
              "    </tr>\n",
              "    <tr>\n",
              "      <th>167</th>\n",
              "      <td>1</td>\n",
              "      <td>0.685154</td>\n",
              "      <td>0.314846</td>\n",
              "      <td>0.314846</td>\n",
              "      <td>0.099128</td>\n",
              "    </tr>\n",
              "    <tr>\n",
              "      <th>168</th>\n",
              "      <td>0</td>\n",
              "      <td>0.196080</td>\n",
              "      <td>-0.196080</td>\n",
              "      <td>0.196080</td>\n",
              "      <td>0.038447</td>\n",
              "    </tr>\n",
              "    <tr>\n",
              "      <th>169</th>\n",
              "      <td>1</td>\n",
              "      <td>0.969371</td>\n",
              "      <td>0.030629</td>\n",
              "      <td>0.030629</td>\n",
              "      <td>0.000938</td>\n",
              "    </tr>\n",
              "    <tr>\n",
              "      <th>170</th>\n",
              "      <td>1</td>\n",
              "      <td>0.816063</td>\n",
              "      <td>0.183937</td>\n",
              "      <td>0.183937</td>\n",
              "      <td>0.033833</td>\n",
              "    </tr>\n",
              "  </tbody>\n",
              "</table>\n",
              "<p>171 rows × 5 columns</p>\n",
              "</div>\n",
              "      <button class=\"colab-df-convert\" onclick=\"convertToInteractive('df-678408be-d010-4aa1-920a-b1adefa1511d')\"\n",
              "              title=\"Convert this dataframe to an interactive table.\"\n",
              "              style=\"display:none;\">\n",
              "        \n",
              "  <svg xmlns=\"http://www.w3.org/2000/svg\" height=\"24px\"viewBox=\"0 0 24 24\"\n",
              "       width=\"24px\">\n",
              "    <path d=\"M0 0h24v24H0V0z\" fill=\"none\"/>\n",
              "    <path d=\"M18.56 5.44l.94 2.06.94-2.06 2.06-.94-2.06-.94-.94-2.06-.94 2.06-2.06.94zm-11 1L8.5 8.5l.94-2.06 2.06-.94-2.06-.94L8.5 2.5l-.94 2.06-2.06.94zm10 10l.94 2.06.94-2.06 2.06-.94-2.06-.94-.94-2.06-.94 2.06-2.06.94z\"/><path d=\"M17.41 7.96l-1.37-1.37c-.4-.4-.92-.59-1.43-.59-.52 0-1.04.2-1.43.59L10.3 9.45l-7.72 7.72c-.78.78-.78 2.05 0 2.83L4 21.41c.39.39.9.59 1.41.59.51 0 1.02-.2 1.41-.59l7.78-7.78 2.81-2.81c.8-.78.8-2.07 0-2.86zM5.41 20L4 18.59l7.72-7.72 1.47 1.35L5.41 20z\"/>\n",
              "  </svg>\n",
              "      </button>\n",
              "      \n",
              "  <style>\n",
              "    .colab-df-container {\n",
              "      display:flex;\n",
              "      flex-wrap:wrap;\n",
              "      gap: 12px;\n",
              "    }\n",
              "\n",
              "    .colab-df-convert {\n",
              "      background-color: #E8F0FE;\n",
              "      border: none;\n",
              "      border-radius: 50%;\n",
              "      cursor: pointer;\n",
              "      display: none;\n",
              "      fill: #1967D2;\n",
              "      height: 32px;\n",
              "      padding: 0 0 0 0;\n",
              "      width: 32px;\n",
              "    }\n",
              "\n",
              "    .colab-df-convert:hover {\n",
              "      background-color: #E2EBFA;\n",
              "      box-shadow: 0px 1px 2px rgba(60, 64, 67, 0.3), 0px 1px 3px 1px rgba(60, 64, 67, 0.15);\n",
              "      fill: #174EA6;\n",
              "    }\n",
              "\n",
              "    [theme=dark] .colab-df-convert {\n",
              "      background-color: #3B4455;\n",
              "      fill: #D2E3FC;\n",
              "    }\n",
              "\n",
              "    [theme=dark] .colab-df-convert:hover {\n",
              "      background-color: #434B5C;\n",
              "      box-shadow: 0px 1px 3px 1px rgba(0, 0, 0, 0.15);\n",
              "      filter: drop-shadow(0px 1px 2px rgba(0, 0, 0, 0.3));\n",
              "      fill: #FFFFFF;\n",
              "    }\n",
              "  </style>\n",
              "\n",
              "      <script>\n",
              "        const buttonEl =\n",
              "          document.querySelector('#df-678408be-d010-4aa1-920a-b1adefa1511d button.colab-df-convert');\n",
              "        buttonEl.style.display =\n",
              "          google.colab.kernel.accessAllowed ? 'block' : 'none';\n",
              "\n",
              "        async function convertToInteractive(key) {\n",
              "          const element = document.querySelector('#df-678408be-d010-4aa1-920a-b1adefa1511d');\n",
              "          const dataTable =\n",
              "            await google.colab.kernel.invokeFunction('convertToInteractive',\n",
              "                                                     [key], {});\n",
              "          if (!dataTable) return;\n",
              "\n",
              "          const docLinkHtml = 'Like what you see? Visit the ' +\n",
              "            '<a target=\"_blank\" href=https://colab.research.google.com/notebooks/data_table.ipynb>data table notebook</a>'\n",
              "            + ' to learn more about interactive tables.';\n",
              "          element.innerHTML = '';\n",
              "          dataTable['output_type'] = 'display_data';\n",
              "          await google.colab.output.renderOutput(dataTable, element);\n",
              "          const docLink = document.createElement('div');\n",
              "          docLink.innerHTML = docLinkHtml;\n",
              "          element.appendChild(docLink);\n",
              "        }\n",
              "      </script>\n",
              "    </div>\n",
              "  </div>\n",
              "  "
            ]
          },
          "metadata": {},
          "execution_count": 30
        }
      ]
    },
    {
      "cell_type": "code",
      "source": [
        "value = dat['오차절대값'].sum()/len(dat['오차절대값'])\n",
        "value"
      ],
      "metadata": {
        "colab": {
          "base_uri": "https://localhost:8080/"
        },
        "id": "RPGbmh6aimww",
        "outputId": "e5418c25-3a2d-4592-d30c-1f30e619a666"
      },
      "execution_count": 31,
      "outputs": [
        {
          "output_type": "execute_result",
          "data": {
            "text/plain": [
              "0.198468778101547"
            ]
          },
          "metadata": {},
          "execution_count": 31
        }
      ]
    },
    {
      "cell_type": "code",
      "source": [
        ""
      ],
      "metadata": {
        "id": "_j0OGi_OioFJ"
      },
      "execution_count": null,
      "outputs": []
    }
  ]
}