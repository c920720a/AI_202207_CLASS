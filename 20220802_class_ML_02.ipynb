{
 "cells": [
  {
   "cell_type": "code",
   "execution_count": 3,
   "metadata": {},
   "outputs": [],
   "source": [
    "import warnings\n",
    "warnings.filterwarnings(action='ignore')"
   ]
  },
  {
   "cell_type": "code",
   "execution_count": 5,
   "metadata": {},
   "outputs": [],
   "source": [
    "from sklearn.feature_selection import SelectPercentile, f_classif\n",
    "from sklearn.datasets import load_breast_cancer\n",
    "from sklearn.model_selection import train_test_split\n",
    "\n",
    "import numpy as np"
   ]
  },
  {
   "cell_type": "code",
   "execution_count": 6,
   "metadata": {},
   "outputs": [],
   "source": [
    "cancer = load_breast_cancer()"
   ]
  },
  {
   "cell_type": "code",
   "execution_count": 7,
   "metadata": {},
   "outputs": [
    {
     "name": "stdout",
     "output_type": "stream",
     "text": [
      "(569, 30)\n"
     ]
    }
   ],
   "source": [
    "print(cancer.data.shape)"
   ]
  },
  {
   "cell_type": "code",
   "execution_count": 9,
   "metadata": {},
   "outputs": [
    {
     "data": {
      "text/plain": [
       "(569, 40)"
      ]
     },
     "execution_count": 9,
     "metadata": {},
     "output_type": "execute_result"
    }
   ],
   "source": [
    "rng = np.random.RandomState(42)\n",
    "noise = rng.normal(size=(len(cancer.data), 40))\n",
    "noise.shape"
   ]
  },
  {
   "cell_type": "code",
   "execution_count": 10,
   "metadata": {},
   "outputs": [
    {
     "data": {
      "text/plain": [
       "(569, 70)"
      ]
     },
     "execution_count": 10,
     "metadata": {},
     "output_type": "execute_result"
    }
   ],
   "source": [
    "X_w_noise = np.hstack( [cancer.data, noise] )\n",
    "X_w_noise.shape"
   ]
  },
  {
   "cell_type": "code",
   "execution_count": 11,
   "metadata": {},
   "outputs": [],
   "source": [
    "X = X_w_noise\n",
    "y = cancer.target\n",
    "\n",
    "X_train, X_test, y_train, y_test = train_test_split(X, y,\n",
    "                                                   random_state = 0,\n",
    "                                                   test_size = 0.3,\n",
    "                                                   stratify = y)"
   ]
  },
  {
   "cell_type": "code",
   "execution_count": 12,
   "metadata": {},
   "outputs": [
    {
     "name": "stdout",
     "output_type": "stream",
     "text": [
      "X_train shape (398, 70)\n",
      "X_train_selectied shape (398, 35)\n"
     ]
    }
   ],
   "source": [
    "select = SelectPercentile(score_func = f_classif,\n",
    "                         percentile = 50)\n",
    "\n",
    "select.fit(X_train, y_train)\n",
    "\n",
    "# 학습세트에 적용\n",
    "X_train_selected = select.transform(X_train)\n",
    "\n",
    "print(\"X_train shape\", X_train.shape)\n",
    "print(\"X_train_selectied shape\", X_train_selected.shape)"
   ]
  },
  {
   "cell_type": "code",
   "execution_count": 13,
   "metadata": {},
   "outputs": [
    {
     "name": "stdout",
     "output_type": "stream",
     "text": [
      "전체 특성 사용(학습) : 0.962\n",
      "전체 특성 사용(테스트) : 0.912\n"
     ]
    }
   ],
   "source": [
    "from sklearn.linear_model import LogisticRegression\n",
    "\n",
    "lr = LogisticRegression()\n",
    "lr.fit(X_train, y_train)\n",
    "print(\"전체 특성 사용(학습) : {:.3f}\".format(lr.score(X_train, y_train)))\n",
    "print(\"전체 특성 사용(테스트) : {:.3f}\".format(lr.score(X_test, y_test)))"
   ]
  },
  {
   "cell_type": "code",
   "execution_count": 14,
   "metadata": {},
   "outputs": [
    {
     "name": "stdout",
     "output_type": "stream",
     "text": [
      "전체 특성 사용(학습) : 0.962\n",
      "전체 특성 사용(테스트) : 0.912\n",
      "전체 특성 사용(학습) : 0.945\n",
      "전체 특성 사용(테스트) : 0.912\n"
     ]
    }
   ],
   "source": [
    "from sklearn.linear_model import LogisticRegression\n",
    "from sklearn.neighbors import KNeighborsClassifier\n",
    "\n",
    "lr = LogisticRegression()\n",
    "lr.fit(X_train, y_train)\n",
    "print(\"전체 특성 사용(학습) : {:.3f}\".format(lr.score(X_train, y_train)))\n",
    "print(\"전체 특성 사용(테스트) : {:.3f}\".format(lr.score(X_test, y_test)))\n",
    "\n",
    "knn = KNeighborsClassifier()\n",
    "knn.fit(X_train, y_train)\n",
    "print(\"전체 특성 사용(학습) : {:.3f}\".format(knn.score(X_train, y_train)))\n",
    "print(\"전체 특성 사용(테스트) : {:.3f}\".format(knn.score(X_test, y_test)))"
   ]
  },
  {
   "cell_type": "code",
   "execution_count": 16,
   "metadata": {},
   "outputs": [],
   "source": [
    "import matplotlib.pyplot as plt"
   ]
  },
  {
   "cell_type": "code",
   "execution_count": 17,
   "metadata": {},
   "outputs": [
    {
     "name": "stdout",
     "output_type": "stream",
     "text": [
      "[ True  True  True  True  True  True  True  True  True False  True False\n",
      "  True  True False  True  True  True False  True  True  True  True  True\n",
      "  True  True  True  True  True  True False False False False False False\n",
      " False  True  True False False False False False  True  True False False\n",
      " False False False  True False False False False False  True  True False\n",
      "  True False False False False False False False False  True]\n",
      "(171, 35)\n",
      "일부 특성 사용(학습) : 0.970\n",
      "일부 특성 사용(테스트): 0.930\n"
     ]
    },
    {
     "data": {
      "image/png": "[encoded data removed]",
      "text/plain": [
       "<Figure size 1152x144 with 1 Axes>"
      ]
     },
     "metadata": {
      "needs_background": "light"
     },
     "output_type": "display_data"
    }
   ],
   "source": [
    "## X_train_selected\n",
    "select = SelectPercentile(score_func=f_classif,\n",
    "                          percentile=50)\n",
    "select.fit(X_train, y_train)\n",
    "\n",
    "### 학습 세트에 적용\n",
    "X_train_selected = select.transform(X_train)\n",
    "\n",
    "mask = select.get_support()\n",
    "print(mask)\n",
    "plt.matshow(mask.reshape(1, -1), cmap='gray_r')\n",
    "\n",
    "X_test_selected = X_test[ :  , mask ]\n",
    "\n",
    "print(X_test_selected.shape)\n",
    "lr.fit(X_train_selected, y_train)\n",
    "print(\"일부 특성 사용(학습) : {:.3f}\".format(lr.score(X_train_selected, y_train)))\n",
    "print(\"일부 특성 사용(테스트): {:.3f}\".format(lr.score(X_test_selected, y_test)))"
   ]
  },
  {
   "cell_type": "code",
   "execution_count": 18,
   "metadata": {},
   "outputs": [],
   "source": [
    "from sklearn.feature_selection import SelectFromModel #모델 기반 특성 선택\n",
    "from sklearn.ensemble import RandomForestClassifier\n",
    "select = SelectFromModel(RandomForestClassifier(n_estimators=100, random_state=42),\n",
    "                         threshold=\"median\")"
   ]
  },
  {
   "cell_type": "code",
   "execution_count": 19,
   "metadata": {},
   "outputs": [
    {
     "data": {
      "text/plain": [
       "SelectFromModel(estimator=RandomForestClassifier(random_state=42),\n",
       "                threshold='median')"
      ]
     },
     "execution_count": 19,
     "metadata": {},
     "output_type": "execute_result"
    }
   ],
   "source": [
    "select.fit(X_train, y_train)"
   ]
  },
  {
   "cell_type": "code",
   "execution_count": 20,
   "metadata": {},
   "outputs": [
    {
     "name": "stdout",
     "output_type": "stream",
     "text": [
      "X_train.shape : (398, 70)\n",
      "X_train_l1.shape : (398, 35)\n"
     ]
    }
   ],
   "source": [
    "X_train_l1 = select.transform(X_train)\n",
    "\n",
    "print(\"X_train.shape :\" , X_train.shape)\n",
    "print(\"X_train_l1.shape :\", X_train_l1.shape)"
   ]
  },
  {
   "cell_type": "code",
   "execution_count": 22,
   "metadata": {},
   "outputs": [],
   "source": [
    "### 한글 폰트 설정\n",
    "import matplotlib\n",
    "from matplotlib import font_manager, rc\n",
    "import matplotlib.pyplot as plt\n",
    "import platform\n",
    "\n",
    "path = \"C:/Windows/Fonts/malgun.ttf\"\n",
    "if platform.system() == \"Windows\":\n",
    "    font_name = font_manager.FontProperties(fname=path).get_name()\n",
    "    rc('font', family=font_name)\n",
    "elif platform.system()==\"Darwin\":\n",
    "    rc('font', family='AppleGothic')\n",
    "else:\n",
    "    print(\"Unknown System\")\n",
    "    \n",
    "matplotlib.rcParams['axes.unicode_minus'] = False\n",
    "%matplotlib inline"
   ]
  },
  {
   "cell_type": "code",
   "execution_count": 23,
   "metadata": {},
   "outputs": [
    {
     "name": "stdout",
     "output_type": "stream",
     "text": [
      "[ True  True  True  True  True  True  True  True  True  True  True  True\n",
      "  True  True  True  True  True  True  True False  True  True  True  True\n",
      "  True  True  True  True  True  True False  True False False False False\n",
      "  True  True False False False  True False False False False False False\n",
      " False False False False False False False False  True False False False\n",
      " False False False False  True False False False False False]\n"
     ]
    },
    {
     "data": {
      "image/png": "[encoded data removed]",
      "text/plain": [
       "<Figure size 1152x144 with 1 Axes>"
      ]
     },
     "metadata": {
      "needs_background": "light"
     },
     "output_type": "display_data"
    }
   ],
   "source": [
    "mask = select.get_support()\n",
    "print(mask)\n",
    "\n",
    "plt.matshow(mask.reshape(1, -1), cmap=\"gray_r\")\n",
    "plt.xlabel(\"특성번호\")\n",
    "\n",
    "X_test_l1 = X_test[: , mask]"
   ]
  },
  {
   "cell_type": "code",
   "execution_count": 24,
   "metadata": {},
   "outputs": [
    {
     "name": "stdout",
     "output_type": "stream",
     "text": [
      "전체 특성 사용(학습) : 0.957\n",
      "전체 특성 사용(테스트) : 0.924\n"
     ]
    }
   ],
   "source": [
    "# X_train_l1, X_test_l1\n",
    "lr = LogisticRegression()\n",
    "lr.fit(X_train_l1, y_train)\n",
    "\n",
    "print(\"전체 특성 사용(학습) : {:.3f}\".format(lr.score(X_train_l1, y_train)))\n",
    "print(\"전체 특성 사용(테스트) : {:.3f}\".format(lr.score(X_test_l1, y_test)))"
   ]
  },
  {
   "cell_type": "markdown",
   "metadata": {},
   "source": [
    "#### 일변량 통계를 이용한 변수 선택\n",
    " * 통계 F-value를 이용\n",
    "  * select = SelectPercentile(score_func=f_classif, percentile=50)\n",
    "   * 분류 : t_classif\n",
    "   * 호귀 : f_regression\n",
    "    \n",
    "#### 모델 기반 변수 선택\n",
    " * 모델을 기반으로 변수를 선택\n",
    "  * RandomForestClassifier를 이용한다고 하면,\n",
    "   * 기준이 되는 값은 특성 중요도\n",
    "    * 특성 중요도 : 모델을 만들 대, 사용된 변수를 말한다.\n",
    "     * select = SelectFromModel(RandomForestClassifier(), threshold=\"median\")"
   ]
  },
  {
   "cell_type": "code",
   "execution_count": null,
   "metadata": {},
   "outputs": [],
   "source": []
  }
 ],
 "metadata": {
  "kernelspec": {
   "display_name": "Python 3",
   "language": "python",
   "name": "python3"
  },
  "language_info": {
   "codemirror_mode": {
    "name": "ipython",
    "version": 3
   },
   "file_extension": ".py",
   "mimetype": "text/x-python",
   "name": "python",
   "nbconvert_exporter": "python",
   "pygments_lexer": "ipython3",
   "version": "3.8.5"
  }
 },
 "nbformat": 4,
 "nbformat_minor": 4
}
