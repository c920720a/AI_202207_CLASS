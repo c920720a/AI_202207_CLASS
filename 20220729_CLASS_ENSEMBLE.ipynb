{
  "nbformat": 4,
  "nbformat_minor": 0,
  "metadata": {
    "colab": {
      "name": "20220729_CLASS_ENSEMBLE.ipynb",
      "provenance": [],
      "collapsed_sections": []
    },
    "kernelspec": {
      "name": "python3",
      "display_name": "Python 3"
    },
    "language_info": {
      "name": "python"
    }
  },
  "cells": [
    {
      "cell_type": "code",
      "execution_count": 1,
      "metadata": {
        "id": "i4bJwC6jirgm"
      },
      "outputs": [],
      "source": [
        "import seaborn as sns"
      ]
    },
    {
      "cell_type": "code",
      "source": [
        "tips = sns.load_dataset(\"tips\")\n",
        "tips.info()"
      ],
      "metadata": {
        "colab": {
          "base_uri": "https://localhost:8080/"
        },
        "id": "d6lXDnGgi0nQ",
        "outputId": "919d111a-2cdd-4972-ba6c-6b15a5105514"
      },
      "execution_count": 3,
      "outputs": [
        {
          "output_type": "stream",
          "name": "stdout",
          "text": [
            "<class 'pandas.core.frame.DataFrame'>\n",
            "RangeIndex: 244 entries, 0 to 243\n",
            "Data columns (total 7 columns):\n",
            " #   Column      Non-Null Count  Dtype   \n",
            "---  ------      --------------  -----   \n",
            " 0   total_bill  244 non-null    float64 \n",
            " 1   tip         244 non-null    float64 \n",
            " 2   sex         244 non-null    category\n",
            " 3   smoker      244 non-null    category\n",
            " 4   day         244 non-null    category\n",
            " 5   time        244 non-null    category\n",
            " 6   size        244 non-null    int64   \n",
            "dtypes: category(4), float64(2), int64(1)\n",
            "memory usage: 7.4 KB\n"
          ]
        }
      ]
    },
    {
      "cell_type": "code",
      "source": [
        "tips_have = tips.iloc[ 0:220  , :  ] # 현재 가진 데이터\n",
        "tips_new = tips.iloc[ 220: , : ]     # 미래의 고객  데이터\n",
        "\n",
        "tips_new.drop(['size'], axis=1, inplace=True)\n",
        "\n",
        "tips_have.shape, tips_new.shape"
      ],
      "metadata": {
        "colab": {
          "base_uri": "https://localhost:8080/"
        },
        "id": "kcs7BnZgi6PT",
        "outputId": "7809c2b3-04eb-42a0-dbef-4402ff3a30c2"
      },
      "execution_count": 4,
      "outputs": [
        {
          "output_type": "stream",
          "name": "stderr",
          "text": [
            "/usr/local/lib/python3.7/dist-packages/pandas/core/frame.py:4913: SettingWithCopyWarning: \n",
            "A value is trying to be set on a copy of a slice from a DataFrame\n",
            "\n",
            "See the caveats in the documentation: https://pandas.pydata.org/pandas-docs/stable/user_guide/indexing.html#returning-a-view-versus-a-copy\n",
            "  errors=errors,\n"
          ]
        },
        {
          "output_type": "execute_result",
          "data": {
            "text/plain": [
              "((220, 7), (24, 6))"
            ]
          },
          "metadata": {},
          "execution_count": 4
        }
      ]
    },
    {
      "cell_type": "code",
      "source": [
        "sel = ['total_bill', 'tip']\n",
        "\n",
        "X = tips_have[sel]\n",
        "y = tips_have['size']\n",
        "\n",
        "text_X = tips_new[sel]"
      ],
      "metadata": {
        "id": "KZrZlUr3nHpf"
      },
      "execution_count": 5,
      "outputs": []
    },
    {
      "cell_type": "code",
      "source": [
        "from sklearn.ensemble import RandomForestClassifier"
      ],
      "metadata": {
        "id": "Lhsztw__nJ7z"
      },
      "execution_count": 6,
      "outputs": []
    },
    {
      "cell_type": "code",
      "source": [
        "model = RandomForestClassifier() \n",
        "model.fit(X, y)\n",
        "model.score(X, y)"
      ],
      "metadata": {
        "colab": {
          "base_uri": "https://localhost:8080/"
        },
        "id": "USuOl_bWnMdK",
        "outputId": "367becae-4e16-40c1-d778-7c1f5fb62a26"
      },
      "execution_count": 7,
      "outputs": [
        {
          "output_type": "execute_result",
          "data": {
            "text/plain": [
              "1.0"
            ]
          },
          "metadata": {},
          "execution_count": 7
        }
      ]
    },
    {
      "cell_type": "code",
      "source": [
        "from sklearn.model_selection import train_test_split"
      ],
      "metadata": {
        "id": "qNgF6CEUnOYI"
      },
      "execution_count": 8,
      "outputs": []
    },
    {
      "cell_type": "code",
      "source": [
        "sel = ['total_bill', 'tip']\n",
        "\n",
        "X = tips_have[sel]\n",
        "y = tips_have['size']\n",
        "\n",
        "X_train, X_test, y_train, y_test = train_test_split(X, y,\n",
        "                                        random_state=0)"
      ],
      "metadata": {
        "id": "Cizg5nS9nPlS"
      },
      "execution_count": 9,
      "outputs": []
    },
    {
      "cell_type": "code",
      "source": [
        "model = RandomForestClassifier()\n",
        "model.fit(X_train, y_train)\n",
        "\n",
        "print(model.score(X_train, y_train)   )\n",
        "print(model.score(X_test, y_test)     )"
      ],
      "metadata": {
        "colab": {
          "base_uri": "https://localhost:8080/"
        },
        "id": "nIcDYvdfnQzg",
        "outputId": "d15d8029-3663-4765-8730-10a7504d4d6d"
      },
      "execution_count": 10,
      "outputs": [
        {
          "output_type": "stream",
          "name": "stdout",
          "text": [
            "1.0\n",
            "0.5818181818181818\n"
          ]
        }
      ]
    },
    {
      "cell_type": "code",
      "source": [
        "# 과적합(과대적합, Overfitting) 해결하기\n",
        "# 과적합된 모델을 일반화 시키기"
      ],
      "metadata": {
        "id": "05hVyHOwnSeB"
      },
      "execution_count": 12,
      "outputs": []
    },
    {
      "cell_type": "code",
      "source": [
        "model = RandomForestClassifier(max_depth=1)\n",
        "model.fit(X_train, y_train)\n",
        "\n",
        "print(model.score(X_train, y_train)   )\n",
        "print(model.score(X_test, y_test)     )"
      ],
      "metadata": {
        "colab": {
          "base_uri": "https://localhost:8080/"
        },
        "id": "E9AX33KinXsH",
        "outputId": "97fc50e3-7fcb-44bb-f00b-48cf8f28dbcc"
      },
      "execution_count": 13,
      "outputs": [
        {
          "output_type": "stream",
          "name": "stdout",
          "text": [
            "0.7090909090909091\n",
            "0.6181818181818182\n"
          ]
        }
      ]
    },
    {
      "cell_type": "code",
      "source": [
        "### knn 모델\n",
        "### 의사결정트리 모델\n",
        "from sklearn.neighbors import KNeighborsClassifier\n",
        "from sklearn.tree import DecisionTreeClassifier\n",
        "from sklearn.svm import SVC\n",
        "from sklearn.ensemble import RandomForestClassifier"
      ],
      "metadata": {
        "id": "rj4m9Q4mnliv"
      },
      "execution_count": 14,
      "outputs": []
    },
    {
      "cell_type": "code",
      "source": [
        "model=RandomForestClassifier(max_depth=6, random_state=0)\n",
        "model.fit(X_train, y_train)\n",
        "\n",
        "print(model.score(X_train, y_train)   )\n",
        "print(model.score(X_test, y_test)     )"
      ],
      "metadata": {
        "colab": {
          "base_uri": "https://localhost:8080/"
        },
        "id": "2pvHDxwGpGbq",
        "outputId": "37518efe-80c6-4cd1-81e9-18b9fa0e3d82"
      },
      "execution_count": 15,
      "outputs": [
        {
          "output_type": "stream",
          "name": "stdout",
          "text": [
            "0.8787878787878788\n",
            "0.5818181818181818\n"
          ]
        }
      ]
    },
    {
      "cell_type": "code",
      "source": [
        "# knn 모델\n",
        "model = KNeighborsClassifier(n_neighbors=4)\n",
        "model.fit(X_train, y_train)\n",
        "\n",
        "print(model.score(X_train, y_train)   )\n",
        "print(model.score(X_test, y_test)     )"
      ],
      "metadata": {
        "colab": {
          "base_uri": "https://localhost:8080/"
        },
        "id": "kdAI6SIQpzqZ",
        "outputId": "252359c6-3881-4b01-bd02-a5e8386f41b0"
      },
      "execution_count": 16,
      "outputs": [
        {
          "output_type": "stream",
          "name": "stdout",
          "text": [
            "0.7696969696969697\n",
            "0.5454545454545454\n"
          ]
        }
      ]
    },
    {
      "cell_type": "code",
      "source": [
        "# 의사결정트리\n",
        "model = DecisionTreeClassifier(max_depth=4)\n",
        "model.fit(X_train, y_train)\n",
        "\n",
        "print(model.score(X_train, y_train)   )\n",
        "print(model.score(X_test, y_test)     )\n",
        "\n",
        "# SVC \n",
        "model = SVC()\n",
        "model.fit(X_train, y_train)\n",
        "\n",
        "print(model.score(X_train, y_train)   )\n",
        "print(model.score(X_test, y_test)     )"
      ],
      "metadata": {
        "colab": {
          "base_uri": "https://localhost:8080/"
        },
        "id": "Fq5tIuJ2qATo",
        "outputId": "d2166101-f648-4a3b-9c94-d44bcaacc541"
      },
      "execution_count": 17,
      "outputs": [
        {
          "output_type": "stream",
          "name": "stdout",
          "text": [
            "0.8\n",
            "0.5818181818181818\n",
            "0.7090909090909091\n",
            "0.6\n"
          ]
        }
      ]
    },
    {
      "cell_type": "code",
      "source": [
        "dict_sex = {\"Male\":0, \"Female\":1}\n",
        "tips['sex_en'] = tips['sex'].map(dict_sex).astype(\"int32\")\n",
        "\n",
        "dict_smoker = {\"No\":0, \"Yes\":1}\n",
        "tips['smoker_en'] = tips['smoker'].map(dict_smoker).astype(\"int32\")"
      ],
      "metadata": {
        "id": "4-rPhxX1uTSG"
      },
      "execution_count": 18,
      "outputs": []
    },
    {
      "cell_type": "code",
      "source": [
        "tips_have = tips.iloc[ 0:220  , :  ] # 현재 가진 데이터\n",
        "tips_new = tips.iloc[ 220: , : ]     # 미래의 고객  데이터\n",
        "\n",
        "tips_new.drop(['size'], axis=1, inplace=True)\n",
        "\n",
        "tips_have.shape, tips_new.shape"
      ],
      "metadata": {
        "colab": {
          "base_uri": "https://localhost:8080/"
        },
        "id": "6yzG_zNlxIIL",
        "outputId": "979ec278-234e-49e1-d294-410c89c6b6fe"
      },
      "execution_count": 19,
      "outputs": [
        {
          "output_type": "stream",
          "name": "stderr",
          "text": [
            "/usr/local/lib/python3.7/dist-packages/pandas/core/frame.py:4913: SettingWithCopyWarning: \n",
            "A value is trying to be set on a copy of a slice from a DataFrame\n",
            "\n",
            "See the caveats in the documentation: https://pandas.pydata.org/pandas-docs/stable/user_guide/indexing.html#returning-a-view-versus-a-copy\n",
            "  errors=errors,\n"
          ]
        },
        {
          "output_type": "execute_result",
          "data": {
            "text/plain": [
              "((220, 9), (24, 8))"
            ]
          },
          "metadata": {},
          "execution_count": 19
        }
      ]
    },
    {
      "cell_type": "code",
      "source": [
        "sel = ['total_bill', 'tip', 'sex_en', 'smoker_en']\n",
        "\n",
        "X = tips_have[sel]\n",
        "y = tips_have['size']\n",
        "\n",
        "X_train, X_test, y_train, y_test = train_test_split(X, y,\n",
        "                                        random_state=0)"
      ],
      "metadata": {
        "id": "y0X03ldGxIh2"
      },
      "execution_count": 20,
      "outputs": []
    },
    {
      "cell_type": "code",
      "source": [
        "import platform\n",
        "import matplotlib\n",
        "from matplotlib import font_manager, rc\n",
        "import matplotlib"
      ],
      "metadata": {
        "id": "cpNi_xHqxKQ2"
      },
      "execution_count": 21,
      "outputs": []
    },
    {
      "cell_type": "code",
      "source": [
        "# 한글 및 마이너스 표시 설정\n",
        "path = \"C:/Windows/Fonts/malgun.ttf\"\n",
        "if platform.system() == \"Windows\":\n",
        "    font_name = font_manager.FontProperties(fname=path).get_name()\n",
        "    matplotlib.rc('font', family=font_name)\n",
        "elif platform.system()==\"Darwin\":\n",
        "    rc('font', family='AppleGothic')\n",
        "else:\n",
        "    print(\"Unknown System\")\n",
        "\n",
        "matplotlib.rcParams['axes.unicode_minus'] = False\n",
        "%matplotlib inline"
      ],
      "metadata": {
        "colab": {
          "base_uri": "https://localhost:8080/"
        },
        "id": "2YwDpKyB_9_A",
        "outputId": "bff4b992-90b9-4a2c-ffce-74b833416d88"
      },
      "execution_count": 22,
      "outputs": [
        {
          "output_type": "stream",
          "name": "stdout",
          "text": [
            "Unknown System\n"
          ]
        }
      ]
    },
    {
      "cell_type": "code",
      "source": [
        "from sklearn.ensemble import RandomForestClassifier\n",
        "from sklearn.model_selection import train_test_split\n",
        "import matplotlib.pyplot as plt\n",
        "import numpy as np\n",
        "import pandas as pd"
      ],
      "metadata": {
        "id": "bfF3VzEV__s-"
      },
      "execution_count": 23,
      "outputs": []
    },
    {
      "cell_type": "code",
      "source": [
        "pip install mglearn"
      ],
      "metadata": {
        "colab": {
          "base_uri": "https://localhost:8080/"
        },
        "id": "siIs4GOGAFJO",
        "outputId": "0e3be76e-d790-4d5d-d599-0674227bdba0"
      },
      "execution_count": 25,
      "outputs": [
        {
          "output_type": "stream",
          "name": "stdout",
          "text": [
            "Looking in indexes: https://pypi.org/simple, https://us-python.pkg.dev/colab-wheels/public/simple/\n",
            "Collecting mglearn\n",
            "  Downloading mglearn-0.1.9.tar.gz (540 kB)\n",
            "\u001b[K     |████████████████████████████████| 540 kB 5.6 MB/s \n",
            "\u001b[?25hRequirement already satisfied: numpy in /usr/local/lib/python3.7/dist-packages (from mglearn) (1.21.6)\n",
            "Requirement already satisfied: matplotlib in /usr/local/lib/python3.7/dist-packages (from mglearn) (3.2.2)\n",
            "Requirement already satisfied: scikit-learn in /usr/local/lib/python3.7/dist-packages (from mglearn) (1.0.2)\n",
            "Requirement already satisfied: pandas in /usr/local/lib/python3.7/dist-packages (from mglearn) (1.3.5)\n",
            "Requirement already satisfied: pillow in /usr/local/lib/python3.7/dist-packages (from mglearn) (7.1.2)\n",
            "Requirement already satisfied: cycler in /usr/local/lib/python3.7/dist-packages (from mglearn) (0.11.0)\n",
            "Requirement already satisfied: imageio in /usr/local/lib/python3.7/dist-packages (from mglearn) (2.4.1)\n",
            "Requirement already satisfied: joblib in /usr/local/lib/python3.7/dist-packages (from mglearn) (1.1.0)\n",
            "Requirement already satisfied: kiwisolver>=1.0.1 in /usr/local/lib/python3.7/dist-packages (from matplotlib->mglearn) (1.4.4)\n",
            "Requirement already satisfied: pyparsing!=2.0.4,!=2.1.2,!=2.1.6,>=2.0.1 in /usr/local/lib/python3.7/dist-packages (from matplotlib->mglearn) (3.0.9)\n",
            "Requirement already satisfied: python-dateutil>=2.1 in /usr/local/lib/python3.7/dist-packages (from matplotlib->mglearn) (2.8.2)\n",
            "Requirement already satisfied: typing-extensions in /usr/local/lib/python3.7/dist-packages (from kiwisolver>=1.0.1->matplotlib->mglearn) (4.1.1)\n",
            "Requirement already satisfied: six>=1.5 in /usr/local/lib/python3.7/dist-packages (from python-dateutil>=2.1->matplotlib->mglearn) (1.15.0)\n",
            "Requirement already satisfied: pytz>=2017.3 in /usr/local/lib/python3.7/dist-packages (from pandas->mglearn) (2022.1)\n",
            "Requirement already satisfied: threadpoolctl>=2.0.0 in /usr/local/lib/python3.7/dist-packages (from scikit-learn->mglearn) (3.1.0)\n",
            "Requirement already satisfied: scipy>=1.1.0 in /usr/local/lib/python3.7/dist-packages (from scikit-learn->mglearn) (1.7.3)\n",
            "Building wheels for collected packages: mglearn\n",
            "  Building wheel for mglearn (setup.py) ... \u001b[?25l\u001b[?25hdone\n",
            "  Created wheel for mglearn: filename=mglearn-0.1.9-py2.py3-none-any.whl size=582639 sha256=f950ba93fdc653501c8a2766170f5a0eee8b2ba4f4f321b9ed94a43c7d213ae1\n",
            "  Stored in directory: /root/.cache/pip/wheels/f1/17/e1/1720d6dcd70187b6b6c3750cb3508798f2b1d57c9d3214b08b\n",
            "Successfully built mglearn\n",
            "Installing collected packages: mglearn\n",
            "Successfully installed mglearn-0.1.9\n"
          ]
        }
      ]
    },
    {
      "cell_type": "code",
      "source": [
        "from sklearn.datasets import load_breast_cancer\n",
        "import mglearn\n",
        "cancer = load_breast_cancer()\n",
        "\n",
        "X = cancer.data\n",
        "y = cancer.target\n",
        "\n",
        "X_train, X_test, y_train, y_test = train_test_split(X, y,\n",
        "                                        stratify=cancer.target, \n",
        "                                        random_state=0)"
      ],
      "metadata": {
        "id": "NeF_VOpYACCV"
      },
      "execution_count": 26,
      "outputs": []
    },
    {
      "cell_type": "code",
      "source": [
        "from sklearn.neighbors import KNeighborsClassifier\n",
        "from sklearn.ensemble import RandomForestClassifier\n",
        "from sklearn.tree import DecisionTreeClassifier"
      ],
      "metadata": {
        "id": "D0kbC06AADRs"
      },
      "execution_count": 27,
      "outputs": []
    },
    {
      "cell_type": "code",
      "source": [
        "# K-NN\n",
        "model = KNeighborsClassifier()\n",
        "model.fit(X_train, y_train)\n",
        "\n",
        "print(\"학습용 정확도 : \", model.score(X_train, y_train))\n",
        "print(\"테스트용 정확도 : \", model.score(X_test, y_test))"
      ],
      "metadata": {
        "colab": {
          "base_uri": "https://localhost:8080/"
        },
        "id": "2tXj4s3lAYk8",
        "outputId": "9ba6718f-c33d-4168-d951-dd200b3e7d17"
      },
      "execution_count": 29,
      "outputs": [
        {
          "output_type": "stream",
          "name": "stdout",
          "text": [
            "학습용 정확도 :  0.9460093896713615\n",
            "테스트용 정확도 :  0.916083916083916\n"
          ]
        }
      ]
    },
    {
      "cell_type": "code",
      "source": [
        "# 의사결정트리\n",
        "model = DecisionTreeClassifier()\n",
        "model.fit(X_train, y_train)\n",
        "\n",
        "print(\"학습용 정확도 : \", model.score(X_train, y_train))\n",
        "print(\"테스트용 정확도 : \", model.score(X_test, y_test))"
      ],
      "metadata": {
        "colab": {
          "base_uri": "https://localhost:8080/"
        },
        "id": "amIqqK5lAw3M",
        "outputId": "429bb617-cbda-42cc-cee0-9970b24dad96"
      },
      "execution_count": 30,
      "outputs": [
        {
          "output_type": "stream",
          "name": "stdout",
          "text": [
            "학습용 정확도 :  1.0\n",
            "테스트용 정확도 :  0.9300699300699301\n"
          ]
        }
      ]
    },
    {
      "cell_type": "code",
      "source": [
        "# 앙상블_랜덤포레스트\n",
        "model = RandomForestClassifier()\n",
        "model.fit(X_train, y_train)\n",
        "\n",
        "print(\"학습용 정확도 : \", model.score(X_train, y_train))\n",
        "print(\"테스트용 정확도 : \", model.score(X_test, y_test))"
      ],
      "metadata": {
        "colab": {
          "base_uri": "https://localhost:8080/"
        },
        "id": "yvZN5yg9BCvW",
        "outputId": "faa5002a-b8fb-4392-ae9e-c8206b7aaa28"
      },
      "execution_count": 31,
      "outputs": [
        {
          "output_type": "stream",
          "name": "stdout",
          "text": [
            "학습용 정확도 :  1.0\n",
            "테스트용 정확도 :  0.9440559440559441\n"
          ]
        }
      ]
    },
    {
      "cell_type": "code",
      "source": [
        "# 5개의 모델에 대한 정확도 평가\n",
        "for one_model in model.estimators_:\n",
        "    print(\"학습용 세트 정확도 : {:.3f}\".format(one_model.score(X_train, y_train)))\n",
        "    print(\"테스트 세트 정확도 : {:.3f}\".format(one_model.score(X_test, y_test)))\n",
        "    print()"
      ],
      "metadata": {
        "colab": {
          "base_uri": "https://localhost:8080/"
        },
        "id": "F-qAvzEaBIvS",
        "outputId": "a334631c-25ea-4f9b-8923-833af79b48a8"
      },
      "execution_count": 32,
      "outputs": [
        {
          "output_type": "stream",
          "name": "stdout",
          "text": [
            "학습용 세트 정확도 : 0.977\n",
            "테스트 세트 정확도 : 0.930\n",
            "\n",
            "학습용 세트 정확도 : 0.960\n",
            "테스트 세트 정확도 : 0.909\n",
            "\n",
            "학습용 세트 정확도 : 0.979\n",
            "테스트 세트 정확도 : 0.930\n",
            "\n",
            "학습용 세트 정확도 : 0.972\n",
            "테스트 세트 정확도 : 0.916\n",
            "\n",
            "학습용 세트 정확도 : 0.974\n",
            "테스트 세트 정확도 : 0.937\n",
            "\n",
            "학습용 세트 정확도 : 0.977\n",
            "테스트 세트 정확도 : 0.937\n",
            "\n",
            "학습용 세트 정확도 : 0.979\n",
            "테스트 세트 정확도 : 0.902\n",
            "\n",
            "학습용 세트 정확도 : 0.967\n",
            "테스트 세트 정확도 : 0.888\n",
            "\n",
            "학습용 세트 정확도 : 0.986\n",
            "테스트 세트 정확도 : 0.909\n",
            "\n",
            "학습용 세트 정확도 : 0.958\n",
            "테스트 세트 정확도 : 0.895\n",
            "\n",
            "학습용 세트 정확도 : 0.974\n",
            "테스트 세트 정확도 : 0.902\n",
            "\n",
            "학습용 세트 정확도 : 0.986\n",
            "테스트 세트 정확도 : 0.916\n",
            "\n",
            "학습용 세트 정확도 : 0.972\n",
            "테스트 세트 정확도 : 0.895\n",
            "\n",
            "학습용 세트 정확도 : 0.977\n",
            "테스트 세트 정확도 : 0.902\n",
            "\n",
            "학습용 세트 정확도 : 0.977\n",
            "테스트 세트 정확도 : 0.930\n",
            "\n",
            "학습용 세트 정확도 : 0.986\n",
            "테스트 세트 정확도 : 0.916\n",
            "\n",
            "학습용 세트 정확도 : 0.969\n",
            "테스트 세트 정확도 : 0.923\n",
            "\n",
            "학습용 세트 정확도 : 0.979\n",
            "테스트 세트 정확도 : 0.923\n",
            "\n",
            "학습용 세트 정확도 : 0.960\n",
            "테스트 세트 정확도 : 0.874\n",
            "\n",
            "학습용 세트 정확도 : 0.981\n",
            "테스트 세트 정확도 : 0.902\n",
            "\n",
            "학습용 세트 정확도 : 0.974\n",
            "테스트 세트 정확도 : 0.937\n",
            "\n",
            "학습용 세트 정확도 : 0.981\n",
            "테스트 세트 정확도 : 0.937\n",
            "\n",
            "학습용 세트 정확도 : 0.962\n",
            "테스트 세트 정확도 : 0.895\n",
            "\n",
            "학습용 세트 정확도 : 0.974\n",
            "테스트 세트 정확도 : 0.895\n",
            "\n",
            "학습용 세트 정확도 : 0.977\n",
            "테스트 세트 정확도 : 0.867\n",
            "\n",
            "학습용 세트 정확도 : 0.974\n",
            "테스트 세트 정확도 : 0.909\n",
            "\n",
            "학습용 세트 정확도 : 0.958\n",
            "테스트 세트 정확도 : 0.916\n",
            "\n",
            "학습용 세트 정확도 : 0.974\n",
            "테스트 세트 정확도 : 0.909\n",
            "\n",
            "학습용 세트 정확도 : 0.969\n",
            "테스트 세트 정확도 : 0.930\n",
            "\n",
            "학습용 세트 정확도 : 0.972\n",
            "테스트 세트 정확도 : 0.930\n",
            "\n",
            "학습용 세트 정확도 : 0.974\n",
            "테스트 세트 정확도 : 0.937\n",
            "\n",
            "학습용 세트 정확도 : 0.979\n",
            "테스트 세트 정확도 : 0.909\n",
            "\n",
            "학습용 세트 정확도 : 0.974\n",
            "테스트 세트 정확도 : 0.909\n",
            "\n",
            "학습용 세트 정확도 : 0.984\n",
            "테스트 세트 정확도 : 0.923\n",
            "\n",
            "학습용 세트 정확도 : 0.979\n",
            "테스트 세트 정확도 : 0.930\n",
            "\n",
            "학습용 세트 정확도 : 0.967\n",
            "테스트 세트 정확도 : 0.916\n",
            "\n",
            "학습용 세트 정확도 : 0.965\n",
            "테스트 세트 정확도 : 0.902\n",
            "\n",
            "학습용 세트 정확도 : 0.979\n",
            "테스트 세트 정확도 : 0.916\n",
            "\n",
            "학습용 세트 정확도 : 0.974\n",
            "테스트 세트 정확도 : 0.937\n",
            "\n",
            "학습용 세트 정확도 : 0.972\n",
            "테스트 세트 정확도 : 0.874\n",
            "\n",
            "학습용 세트 정확도 : 0.977\n",
            "테스트 세트 정확도 : 0.909\n",
            "\n",
            "학습용 세트 정확도 : 0.967\n",
            "테스트 세트 정확도 : 0.902\n",
            "\n",
            "학습용 세트 정확도 : 0.967\n",
            "테스트 세트 정확도 : 0.923\n",
            "\n",
            "학습용 세트 정확도 : 0.979\n",
            "테스트 세트 정확도 : 0.930\n",
            "\n",
            "학습용 세트 정확도 : 0.977\n",
            "테스트 세트 정확도 : 0.909\n",
            "\n",
            "학습용 세트 정확도 : 0.974\n",
            "테스트 세트 정확도 : 0.881\n",
            "\n",
            "학습용 세트 정확도 : 0.972\n",
            "테스트 세트 정확도 : 0.895\n",
            "\n",
            "학습용 세트 정확도 : 0.977\n",
            "테스트 세트 정확도 : 0.895\n",
            "\n",
            "학습용 세트 정확도 : 0.977\n",
            "테스트 세트 정확도 : 0.916\n",
            "\n",
            "학습용 세트 정확도 : 0.979\n",
            "테스트 세트 정확도 : 0.937\n",
            "\n",
            "학습용 세트 정확도 : 0.981\n",
            "테스트 세트 정확도 : 0.923\n",
            "\n",
            "학습용 세트 정확도 : 0.974\n",
            "테스트 세트 정확도 : 0.902\n",
            "\n",
            "학습용 세트 정확도 : 0.969\n",
            "테스트 세트 정확도 : 0.916\n",
            "\n",
            "학습용 세트 정확도 : 0.958\n",
            "테스트 세트 정확도 : 0.944\n",
            "\n",
            "학습용 세트 정확도 : 0.969\n",
            "테스트 세트 정확도 : 0.923\n",
            "\n",
            "학습용 세트 정확도 : 0.974\n",
            "테스트 세트 정확도 : 0.909\n",
            "\n",
            "학습용 세트 정확도 : 0.953\n",
            "테스트 세트 정확도 : 0.874\n",
            "\n",
            "학습용 세트 정확도 : 0.972\n",
            "테스트 세트 정확도 : 0.930\n",
            "\n",
            "학습용 세트 정확도 : 0.965\n",
            "테스트 세트 정확도 : 0.902\n",
            "\n",
            "학습용 세트 정확도 : 0.981\n",
            "테스트 세트 정확도 : 0.895\n",
            "\n",
            "학습용 세트 정확도 : 0.965\n",
            "테스트 세트 정확도 : 0.909\n",
            "\n",
            "학습용 세트 정확도 : 0.962\n",
            "테스트 세트 정확도 : 0.874\n",
            "\n",
            "학습용 세트 정확도 : 0.974\n",
            "테스트 세트 정확도 : 0.923\n",
            "\n",
            "학습용 세트 정확도 : 0.984\n",
            "테스트 세트 정확도 : 0.930\n",
            "\n",
            "학습용 세트 정확도 : 0.979\n",
            "테스트 세트 정확도 : 0.909\n",
            "\n",
            "학습용 세트 정확도 : 0.972\n",
            "테스트 세트 정확도 : 0.930\n",
            "\n",
            "학습용 세트 정확도 : 0.965\n",
            "테스트 세트 정확도 : 0.902\n",
            "\n",
            "학습용 세트 정확도 : 0.984\n",
            "테스트 세트 정확도 : 0.937\n",
            "\n",
            "학습용 세트 정확도 : 0.974\n",
            "테스트 세트 정확도 : 0.909\n",
            "\n",
            "학습용 세트 정확도 : 0.967\n",
            "테스트 세트 정확도 : 0.888\n",
            "\n",
            "학습용 세트 정확도 : 0.977\n",
            "테스트 세트 정확도 : 0.909\n",
            "\n",
            "학습용 세트 정확도 : 0.969\n",
            "테스트 세트 정확도 : 0.888\n",
            "\n",
            "학습용 세트 정확도 : 0.981\n",
            "테스트 세트 정확도 : 0.923\n",
            "\n",
            "학습용 세트 정확도 : 0.977\n",
            "테스트 세트 정확도 : 0.944\n",
            "\n",
            "학습용 세트 정확도 : 0.988\n",
            "테스트 세트 정확도 : 0.944\n",
            "\n",
            "학습용 세트 정확도 : 0.977\n",
            "테스트 세트 정확도 : 0.916\n",
            "\n",
            "학습용 세트 정확도 : 0.972\n",
            "테스트 세트 정확도 : 0.902\n",
            "\n",
            "학습용 세트 정확도 : 0.979\n",
            "테스트 세트 정확도 : 0.888\n",
            "\n",
            "학습용 세트 정확도 : 0.965\n",
            "테스트 세트 정확도 : 0.916\n",
            "\n",
            "학습용 세트 정확도 : 0.958\n",
            "테스트 세트 정확도 : 0.853\n",
            "\n",
            "학습용 세트 정확도 : 0.969\n",
            "테스트 세트 정확도 : 0.916\n",
            "\n",
            "학습용 세트 정확도 : 0.969\n",
            "테스트 세트 정확도 : 0.937\n",
            "\n",
            "학습용 세트 정확도 : 0.974\n",
            "테스트 세트 정확도 : 0.930\n",
            "\n",
            "학습용 세트 정확도 : 0.972\n",
            "테스트 세트 정확도 : 0.888\n",
            "\n",
            "학습용 세트 정확도 : 0.981\n",
            "테스트 세트 정확도 : 0.930\n",
            "\n",
            "학습용 세트 정확도 : 0.981\n",
            "테스트 세트 정확도 : 0.902\n",
            "\n",
            "학습용 세트 정확도 : 0.979\n",
            "테스트 세트 정확도 : 0.902\n",
            "\n",
            "학습용 세트 정확도 : 0.969\n",
            "테스트 세트 정확도 : 0.902\n",
            "\n",
            "학습용 세트 정확도 : 0.965\n",
            "테스트 세트 정확도 : 0.909\n",
            "\n",
            "학습용 세트 정확도 : 0.967\n",
            "테스트 세트 정확도 : 0.916\n",
            "\n",
            "학습용 세트 정확도 : 0.972\n",
            "테스트 세트 정확도 : 0.909\n",
            "\n",
            "학습용 세트 정확도 : 0.981\n",
            "테스트 세트 정확도 : 0.895\n",
            "\n",
            "학습용 세트 정확도 : 0.967\n",
            "테스트 세트 정확도 : 0.888\n",
            "\n",
            "학습용 세트 정확도 : 0.986\n",
            "테스트 세트 정확도 : 0.916\n",
            "\n",
            "학습용 세트 정확도 : 0.962\n",
            "테스트 세트 정확도 : 0.909\n",
            "\n",
            "학습용 세트 정확도 : 0.972\n",
            "테스트 세트 정확도 : 0.895\n",
            "\n",
            "학습용 세트 정확도 : 0.984\n",
            "테스트 세트 정확도 : 0.895\n",
            "\n",
            "학습용 세트 정확도 : 0.967\n",
            "테스트 세트 정확도 : 0.888\n",
            "\n",
            "학습용 세트 정확도 : 0.979\n",
            "테스트 세트 정확도 : 0.916\n",
            "\n",
            "학습용 세트 정확도 : 0.977\n",
            "테스트 세트 정확도 : 0.909\n",
            "\n"
          ]
        }
      ]
    },
    {
      "cell_type": "code",
      "source": [
        ""
      ],
      "metadata": {
        "id": "3XD4EVYkBZcf"
      },
      "execution_count": null,
      "outputs": []
    }
  ]
}