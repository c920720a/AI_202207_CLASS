{
 "cells": [
  {
   "cell_type": "code",
   "execution_count": 1,
   "id": "ae3fb937",
   "metadata": {
    "_cell_guid": "b1076dfc-b9ad-4769-8c92-a6c4dae69d19",
    "_uuid": "8f2839f25d086af736a60e9eeb907d3b93b6e0e5",
    "execution": {
     "iopub.execute_input": "2022-07-28T03:19:07.503133Z",
     "iopub.status.busy": "2022-07-28T03:19:07.502671Z",
     "iopub.status.idle": "2022-07-28T03:19:07.516535Z",
     "shell.execute_reply": "2022-07-28T03:19:07.515766Z"
    },
    "papermill": {
     "duration": 0.023861,
     "end_time": "2022-07-28T03:19:07.519054",
     "exception": false,
     "start_time": "2022-07-28T03:19:07.495193",
     "status": "completed"
    },
    "tags": []
   },
   "outputs": [
    {
     "name": "stdout",
     "output_type": "stream",
     "text": [
      "/kaggle/input/titanic/train.csv\n",
      "/kaggle/input/titanic/test.csv\n",
      "/kaggle/input/titanic/gender_submission.csv\n"
     ]
    }
   ],
   "source": [
    "import numpy as np # linear algebra\n",
    "import pandas as pd # data processing, CSV file I/O (e.g. pd.read_csv)\n",
    "\n",
    "import os\n",
    "for dirname, _, filenames in os.walk('/kaggle/input'):\n",
    "    for filename in filenames:\n",
    "        print(os.path.join(dirname, filename))"
   ]
  },
  {
   "cell_type": "code",
   "execution_count": 2,
   "id": "883bae72",
   "metadata": {
    "execution": {
     "iopub.execute_input": "2022-07-28T03:19:07.531457Z",
     "iopub.status.busy": "2022-07-28T03:19:07.530725Z",
     "iopub.status.idle": "2022-07-28T03:19:07.566370Z",
     "shell.execute_reply": "2022-07-28T03:19:07.565587Z"
    },
    "papermill": {
     "duration": 0.043573,
     "end_time": "2022-07-28T03:19:07.568338",
     "exception": false,
     "start_time": "2022-07-28T03:19:07.524765",
     "status": "completed"
    },
    "tags": []
   },
   "outputs": [
    {
     "data": {
      "text/plain": [
       "((891, 12), (418, 11), (418, 2))"
      ]
     },
     "execution_count": 2,
     "metadata": {},
     "output_type": "execute_result"
    }
   ],
   "source": [
    "train = pd.read_csv(\"/kaggle/input/titanic/train.csv\")\n",
    "test = pd.read_csv(\"/kaggle/input/titanic/test.csv\")\n",
    "sub = pd.read_csv(\"/kaggle/input/titanic/gender_submission.csv\")\n",
    "\n",
    "train.shape, test.shape, sub.shape"
   ]
  },
  {
   "cell_type": "code",
   "execution_count": 3,
   "id": "18afa31d",
   "metadata": {
    "execution": {
     "iopub.execute_input": "2022-07-28T03:19:07.579214Z",
     "iopub.status.busy": "2022-07-28T03:19:07.578869Z",
     "iopub.status.idle": "2022-07-28T03:19:07.607202Z",
     "shell.execute_reply": "2022-07-28T03:19:07.605919Z"
    },
    "papermill": {
     "duration": 0.036922,
     "end_time": "2022-07-28T03:19:07.610146",
     "exception": false,
     "start_time": "2022-07-28T03:19:07.573224",
     "status": "completed"
    },
    "tags": []
   },
   "outputs": [
    {
     "name": "stdout",
     "output_type": "stream",
     "text": [
      "<class 'pandas.core.frame.DataFrame'>\n",
      "RangeIndex: 891 entries, 0 to 890\n",
      "Data columns (total 12 columns):\n",
      " #   Column       Non-Null Count  Dtype  \n",
      "---  ------       --------------  -----  \n",
      " 0   PassengerId  891 non-null    int64  \n",
      " 1   Survived     891 non-null    int64  \n",
      " 2   Pclass       891 non-null    int64  \n",
      " 3   Name         891 non-null    object \n",
      " 4   Sex          891 non-null    object \n",
      " 5   Age          714 non-null    float64\n",
      " 6   SibSp        891 non-null    int64  \n",
      " 7   Parch        891 non-null    int64  \n",
      " 8   Ticket       891 non-null    object \n",
      " 9   Fare         891 non-null    float64\n",
      " 10  Cabin        204 non-null    object \n",
      " 11  Embarked     889 non-null    object \n",
      "dtypes: float64(2), int64(5), object(5)\n",
      "memory usage: 83.7+ KB\n"
     ]
    }
   ],
   "source": [
    "train.info()"
   ]
  },
  {
   "cell_type": "code",
   "execution_count": 4,
   "id": "e063064c",
   "metadata": {
    "execution": {
     "iopub.execute_input": "2022-07-28T03:19:07.622125Z",
     "iopub.status.busy": "2022-07-28T03:19:07.621746Z",
     "iopub.status.idle": "2022-07-28T03:19:07.635067Z",
     "shell.execute_reply": "2022-07-28T03:19:07.634078Z"
    },
    "papermill": {
     "duration": 0.021846,
     "end_time": "2022-07-28T03:19:07.637296",
     "exception": false,
     "start_time": "2022-07-28T03:19:07.615450",
     "status": "completed"
    },
    "tags": []
   },
   "outputs": [
    {
     "name": "stdout",
     "output_type": "stream",
     "text": [
      "<class 'pandas.core.frame.DataFrame'>\n",
      "RangeIndex: 418 entries, 0 to 417\n",
      "Data columns (total 11 columns):\n",
      " #   Column       Non-Null Count  Dtype  \n",
      "---  ------       --------------  -----  \n",
      " 0   PassengerId  418 non-null    int64  \n",
      " 1   Pclass       418 non-null    int64  \n",
      " 2   Name         418 non-null    object \n",
      " 3   Sex          418 non-null    object \n",
      " 4   Age          332 non-null    float64\n",
      " 5   SibSp        418 non-null    int64  \n",
      " 6   Parch        418 non-null    int64  \n",
      " 7   Ticket       418 non-null    object \n",
      " 8   Fare         417 non-null    float64\n",
      " 9   Cabin        91 non-null     object \n",
      " 10  Embarked     418 non-null    object \n",
      "dtypes: float64(2), int64(4), object(5)\n",
      "memory usage: 36.0+ KB\n"
     ]
    }
   ],
   "source": [
    "test.info()"
   ]
  },
  {
   "cell_type": "code",
   "execution_count": 5,
   "id": "0fba227e",
   "metadata": {
    "execution": {
     "iopub.execute_input": "2022-07-28T03:19:07.650954Z",
     "iopub.status.busy": "2022-07-28T03:19:07.650345Z",
     "iopub.status.idle": "2022-07-28T03:19:07.669308Z",
     "shell.execute_reply": "2022-07-28T03:19:07.668190Z"
    },
    "papermill": {
     "duration": 0.028593,
     "end_time": "2022-07-28T03:19:07.671631",
     "exception": false,
     "start_time": "2022-07-28T03:19:07.643038",
     "status": "completed"
    },
    "tags": []
   },
   "outputs": [
    {
     "data": {
      "text/html": [
       "<div>\n",
       "<style scoped>\n",
       "    .dataframe tbody tr th:only-of-type {\n",
       "        vertical-align: middle;\n",
       "    }\n",
       "\n",
       "    .dataframe tbody tr th {\n",
       "        vertical-align: top;\n",
       "    }\n",
       "\n",
       "    .dataframe thead th {\n",
       "        text-align: right;\n",
       "    }\n",
       "</style>\n",
       "<table border=\"1\" class=\"dataframe\">\n",
       "  <thead>\n",
       "    <tr style=\"text-align: right;\">\n",
       "      <th></th>\n",
       "      <th>PassengerId</th>\n",
       "      <th>Survived</th>\n",
       "      <th>Pclass</th>\n",
       "      <th>Name</th>\n",
       "      <th>Sex</th>\n",
       "      <th>Age</th>\n",
       "      <th>SibSp</th>\n",
       "      <th>Parch</th>\n",
       "      <th>Ticket</th>\n",
       "      <th>Fare</th>\n",
       "      <th>Cabin</th>\n",
       "      <th>Embarked</th>\n",
       "    </tr>\n",
       "  </thead>\n",
       "  <tbody>\n",
       "    <tr>\n",
       "      <th>0</th>\n",
       "      <td>1</td>\n",
       "      <td>0</td>\n",
       "      <td>3</td>\n",
       "      <td>Braund, Mr. Owen Harris</td>\n",
       "      <td>male</td>\n",
       "      <td>22.0</td>\n",
       "      <td>1</td>\n",
       "      <td>0</td>\n",
       "      <td>A/5 21171</td>\n",
       "      <td>7.2500</td>\n",
       "      <td>NaN</td>\n",
       "      <td>S</td>\n",
       "    </tr>\n",
       "    <tr>\n",
       "      <th>1</th>\n",
       "      <td>2</td>\n",
       "      <td>1</td>\n",
       "      <td>1</td>\n",
       "      <td>Cumings, Mrs. John Bradley (Florence Briggs Th...</td>\n",
       "      <td>female</td>\n",
       "      <td>38.0</td>\n",
       "      <td>1</td>\n",
       "      <td>0</td>\n",
       "      <td>PC 17599</td>\n",
       "      <td>71.2833</td>\n",
       "      <td>C85</td>\n",
       "      <td>C</td>\n",
       "    </tr>\n",
       "    <tr>\n",
       "      <th>2</th>\n",
       "      <td>3</td>\n",
       "      <td>1</td>\n",
       "      <td>3</td>\n",
       "      <td>Heikkinen, Miss. Laina</td>\n",
       "      <td>female</td>\n",
       "      <td>26.0</td>\n",
       "      <td>0</td>\n",
       "      <td>0</td>\n",
       "      <td>STON/O2. 3101282</td>\n",
       "      <td>7.9250</td>\n",
       "      <td>NaN</td>\n",
       "      <td>S</td>\n",
       "    </tr>\n",
       "    <tr>\n",
       "      <th>3</th>\n",
       "      <td>4</td>\n",
       "      <td>1</td>\n",
       "      <td>1</td>\n",
       "      <td>Futrelle, Mrs. Jacques Heath (Lily May Peel)</td>\n",
       "      <td>female</td>\n",
       "      <td>35.0</td>\n",
       "      <td>1</td>\n",
       "      <td>0</td>\n",
       "      <td>113803</td>\n",
       "      <td>53.1000</td>\n",
       "      <td>C123</td>\n",
       "      <td>S</td>\n",
       "    </tr>\n",
       "    <tr>\n",
       "      <th>4</th>\n",
       "      <td>5</td>\n",
       "      <td>0</td>\n",
       "      <td>3</td>\n",
       "      <td>Allen, Mr. William Henry</td>\n",
       "      <td>male</td>\n",
       "      <td>35.0</td>\n",
       "      <td>0</td>\n",
       "      <td>0</td>\n",
       "      <td>373450</td>\n",
       "      <td>8.0500</td>\n",
       "      <td>NaN</td>\n",
       "      <td>S</td>\n",
       "    </tr>\n",
       "  </tbody>\n",
       "</table>\n",
       "</div>"
      ],
      "text/plain": [
       "   PassengerId  Survived  Pclass  \\\n",
       "0            1         0       3   \n",
       "1            2         1       1   \n",
       "2            3         1       3   \n",
       "3            4         1       1   \n",
       "4            5         0       3   \n",
       "\n",
       "                                                Name     Sex   Age  SibSp  \\\n",
       "0                            Braund, Mr. Owen Harris    male  22.0      1   \n",
       "1  Cumings, Mrs. John Bradley (Florence Briggs Th...  female  38.0      1   \n",
       "2                             Heikkinen, Miss. Laina  female  26.0      0   \n",
       "3       Futrelle, Mrs. Jacques Heath (Lily May Peel)  female  35.0      1   \n",
       "4                           Allen, Mr. William Henry    male  35.0      0   \n",
       "\n",
       "   Parch            Ticket     Fare Cabin Embarked  \n",
       "0      0         A/5 21171   7.2500   NaN        S  \n",
       "1      0          PC 17599  71.2833   C85        C  \n",
       "2      0  STON/O2. 3101282   7.9250   NaN        S  \n",
       "3      0            113803  53.1000  C123        S  \n",
       "4      0            373450   8.0500   NaN        S  "
      ]
     },
     "execution_count": 5,
     "metadata": {},
     "output_type": "execute_result"
    }
   ],
   "source": [
    "train.head()"
   ]
  },
  {
   "cell_type": "code",
   "execution_count": 6,
   "id": "aa4d4310",
   "metadata": {
    "execution": {
     "iopub.execute_input": "2022-07-28T03:19:07.684039Z",
     "iopub.status.busy": "2022-07-28T03:19:07.683215Z",
     "iopub.status.idle": "2022-07-28T03:19:07.699320Z",
     "shell.execute_reply": "2022-07-28T03:19:07.698166Z"
    },
    "papermill": {
     "duration": 0.026638,
     "end_time": "2022-07-28T03:19:07.703648",
     "exception": false,
     "start_time": "2022-07-28T03:19:07.677010",
     "status": "completed"
    },
    "tags": []
   },
   "outputs": [
    {
     "data": {
      "text/html": [
       "<div>\n",
       "<style scoped>\n",
       "    .dataframe tbody tr th:only-of-type {\n",
       "        vertical-align: middle;\n",
       "    }\n",
       "\n",
       "    .dataframe tbody tr th {\n",
       "        vertical-align: top;\n",
       "    }\n",
       "\n",
       "    .dataframe thead th {\n",
       "        text-align: right;\n",
       "    }\n",
       "</style>\n",
       "<table border=\"1\" class=\"dataframe\">\n",
       "  <thead>\n",
       "    <tr style=\"text-align: right;\">\n",
       "      <th></th>\n",
       "      <th>PassengerId</th>\n",
       "      <th>Pclass</th>\n",
       "      <th>Name</th>\n",
       "      <th>Sex</th>\n",
       "      <th>Age</th>\n",
       "      <th>SibSp</th>\n",
       "      <th>Parch</th>\n",
       "      <th>Ticket</th>\n",
       "      <th>Fare</th>\n",
       "      <th>Cabin</th>\n",
       "      <th>Embarked</th>\n",
       "    </tr>\n",
       "  </thead>\n",
       "  <tbody>\n",
       "    <tr>\n",
       "      <th>0</th>\n",
       "      <td>892</td>\n",
       "      <td>3</td>\n",
       "      <td>Kelly, Mr. James</td>\n",
       "      <td>male</td>\n",
       "      <td>34.5</td>\n",
       "      <td>0</td>\n",
       "      <td>0</td>\n",
       "      <td>330911</td>\n",
       "      <td>7.8292</td>\n",
       "      <td>NaN</td>\n",
       "      <td>Q</td>\n",
       "    </tr>\n",
       "    <tr>\n",
       "      <th>1</th>\n",
       "      <td>893</td>\n",
       "      <td>3</td>\n",
       "      <td>Wilkes, Mrs. James (Ellen Needs)</td>\n",
       "      <td>female</td>\n",
       "      <td>47.0</td>\n",
       "      <td>1</td>\n",
       "      <td>0</td>\n",
       "      <td>363272</td>\n",
       "      <td>7.0000</td>\n",
       "      <td>NaN</td>\n",
       "      <td>S</td>\n",
       "    </tr>\n",
       "    <tr>\n",
       "      <th>2</th>\n",
       "      <td>894</td>\n",
       "      <td>2</td>\n",
       "      <td>Myles, Mr. Thomas Francis</td>\n",
       "      <td>male</td>\n",
       "      <td>62.0</td>\n",
       "      <td>0</td>\n",
       "      <td>0</td>\n",
       "      <td>240276</td>\n",
       "      <td>9.6875</td>\n",
       "      <td>NaN</td>\n",
       "      <td>Q</td>\n",
       "    </tr>\n",
       "    <tr>\n",
       "      <th>3</th>\n",
       "      <td>895</td>\n",
       "      <td>3</td>\n",
       "      <td>Wirz, Mr. Albert</td>\n",
       "      <td>male</td>\n",
       "      <td>27.0</td>\n",
       "      <td>0</td>\n",
       "      <td>0</td>\n",
       "      <td>315154</td>\n",
       "      <td>8.6625</td>\n",
       "      <td>NaN</td>\n",
       "      <td>S</td>\n",
       "    </tr>\n",
       "    <tr>\n",
       "      <th>4</th>\n",
       "      <td>896</td>\n",
       "      <td>3</td>\n",
       "      <td>Hirvonen, Mrs. Alexander (Helga E Lindqvist)</td>\n",
       "      <td>female</td>\n",
       "      <td>22.0</td>\n",
       "      <td>1</td>\n",
       "      <td>1</td>\n",
       "      <td>3101298</td>\n",
       "      <td>12.2875</td>\n",
       "      <td>NaN</td>\n",
       "      <td>S</td>\n",
       "    </tr>\n",
       "  </tbody>\n",
       "</table>\n",
       "</div>"
      ],
      "text/plain": [
       "   PassengerId  Pclass                                          Name     Sex  \\\n",
       "0          892       3                              Kelly, Mr. James    male   \n",
       "1          893       3              Wilkes, Mrs. James (Ellen Needs)  female   \n",
       "2          894       2                     Myles, Mr. Thomas Francis    male   \n",
       "3          895       3                              Wirz, Mr. Albert    male   \n",
       "4          896       3  Hirvonen, Mrs. Alexander (Helga E Lindqvist)  female   \n",
       "\n",
       "    Age  SibSp  Parch   Ticket     Fare Cabin Embarked  \n",
       "0  34.5      0      0   330911   7.8292   NaN        Q  \n",
       "1  47.0      1      0   363272   7.0000   NaN        S  \n",
       "2  62.0      0      0   240276   9.6875   NaN        Q  \n",
       "3  27.0      0      0   315154   8.6625   NaN        S  \n",
       "4  22.0      1      1  3101298  12.2875   NaN        S  "
      ]
     },
     "execution_count": 6,
     "metadata": {},
     "output_type": "execute_result"
    }
   ],
   "source": [
    "test.head()"
   ]
  },
  {
   "cell_type": "code",
   "execution_count": 7,
   "id": "a1b62f76",
   "metadata": {
    "execution": {
     "iopub.execute_input": "2022-07-28T03:19:07.716731Z",
     "iopub.status.busy": "2022-07-28T03:19:07.716373Z",
     "iopub.status.idle": "2022-07-28T03:19:08.938442Z",
     "shell.execute_reply": "2022-07-28T03:19:08.937466Z"
    },
    "papermill": {
     "duration": 1.231605,
     "end_time": "2022-07-28T03:19:08.941344",
     "exception": false,
     "start_time": "2022-07-28T03:19:07.709739",
     "status": "completed"
    },
    "tags": []
   },
   "outputs": [],
   "source": [
    "from sklearn.model_selection import train_test_split\n",
    "from sklearn.tree import DecisionTreeClassifier"
   ]
  },
  {
   "cell_type": "code",
   "execution_count": 8,
   "id": "540a2b2a",
   "metadata": {
    "execution": {
     "iopub.execute_input": "2022-07-28T03:19:08.954096Z",
     "iopub.status.busy": "2022-07-28T03:19:08.953395Z",
     "iopub.status.idle": "2022-07-28T03:19:08.966446Z",
     "shell.execute_reply": "2022-07-28T03:19:08.965230Z"
    },
    "papermill": {
     "duration": 0.02233,
     "end_time": "2022-07-28T03:19:08.969176",
     "exception": false,
     "start_time": "2022-07-28T03:19:08.946846",
     "status": "completed"
    },
    "tags": []
   },
   "outputs": [
    {
     "name": "stdout",
     "output_type": "stream",
     "text": [
      "PassengerId      0\n",
      "Survived         0\n",
      "Pclass           0\n",
      "Name             0\n",
      "Sex              0\n",
      "Age            177\n",
      "SibSp            0\n",
      "Parch            0\n",
      "Ticket           0\n",
      "Fare             0\n",
      "Cabin          687\n",
      "Embarked         2\n",
      "dtype: int64\n",
      "PassengerId      0\n",
      "Pclass           0\n",
      "Name             0\n",
      "Sex              0\n",
      "Age             86\n",
      "SibSp            0\n",
      "Parch            0\n",
      "Ticket           0\n",
      "Fare             1\n",
      "Cabin          327\n",
      "Embarked         0\n",
      "dtype: int64\n"
     ]
    }
   ],
   "source": [
    "print(train.isnull().sum())\n",
    "print(test.isnull().sum())"
   ]
  },
  {
   "cell_type": "code",
   "execution_count": 9,
   "id": "c017db17",
   "metadata": {
    "execution": {
     "iopub.execute_input": "2022-07-28T03:19:08.982193Z",
     "iopub.status.busy": "2022-07-28T03:19:08.981411Z",
     "iopub.status.idle": "2022-07-28T03:19:08.989065Z",
     "shell.execute_reply": "2022-07-28T03:19:08.988335Z"
    },
    "papermill": {
     "duration": 0.016194,
     "end_time": "2022-07-28T03:19:08.991091",
     "exception": false,
     "start_time": "2022-07-28T03:19:08.974897",
     "status": "completed"
    },
    "tags": []
   },
   "outputs": [
    {
     "data": {
      "text/plain": [
       "0      False\n",
       "1      False\n",
       "2      False\n",
       "3      False\n",
       "4      False\n",
       "       ...  \n",
       "886    False\n",
       "887    False\n",
       "888     True\n",
       "889    False\n",
       "890    False\n",
       "Name: Age, Length: 891, dtype: bool"
      ]
     },
     "execution_count": 9,
     "metadata": {},
     "output_type": "execute_result"
    }
   ],
   "source": [
    "train['Age'].isnull()"
   ]
  },
  {
   "cell_type": "code",
   "execution_count": 10,
   "id": "c83f6a4e",
   "metadata": {
    "execution": {
     "iopub.execute_input": "2022-07-28T03:19:09.004515Z",
     "iopub.status.busy": "2022-07-28T03:19:09.003934Z",
     "iopub.status.idle": "2022-07-28T03:19:09.014777Z",
     "shell.execute_reply": "2022-07-28T03:19:09.014070Z"
    },
    "papermill": {
     "duration": 0.020647,
     "end_time": "2022-07-28T03:19:09.017410",
     "exception": false,
     "start_time": "2022-07-28T03:19:08.996763",
     "status": "completed"
    },
    "tags": []
   },
   "outputs": [
    {
     "name": "stdout",
     "output_type": "stream",
     "text": [
      "PassengerId      0\n",
      "Survived         0\n",
      "Pclass           0\n",
      "Name             0\n",
      "Sex              0\n",
      "Age              0\n",
      "SibSp            0\n",
      "Parch            0\n",
      "Ticket           0\n",
      "Fare             0\n",
      "Cabin          687\n",
      "Embarked         2\n",
      "dtype: int64\n",
      "PassengerId      0\n",
      "Pclass           0\n",
      "Name             0\n",
      "Sex              0\n",
      "Age              0\n",
      "SibSp            0\n",
      "Parch            0\n",
      "Ticket           0\n",
      "Fare             1\n",
      "Cabin          327\n",
      "Embarked         0\n",
      "dtype: int64\n"
     ]
    }
   ],
   "source": [
    "train.loc[ train['Age'].isnull(), 'Age' ] = train['Age'].mean()\n",
    "print(train.isnull().sum())\n",
    "test.loc[ test['Age'].isnull(), 'Age' ] = test['Age'].mean()\n",
    "print(test.isnull().sum())"
   ]
  },
  {
   "cell_type": "code",
   "execution_count": 11,
   "id": "0b938439",
   "metadata": {
    "execution": {
     "iopub.execute_input": "2022-07-28T03:19:09.031749Z",
     "iopub.status.busy": "2022-07-28T03:19:09.030683Z",
     "iopub.status.idle": "2022-07-28T03:19:09.043279Z",
     "shell.execute_reply": "2022-07-28T03:19:09.042387Z"
    },
    "papermill": {
     "duration": 0.021486,
     "end_time": "2022-07-28T03:19:09.045320",
     "exception": false,
     "start_time": "2022-07-28T03:19:09.023834",
     "status": "completed"
    },
    "tags": []
   },
   "outputs": [],
   "source": [
    "# Pclass       418 non-null    int64  \n",
    "# SibSp        418 non-null    int64  \n",
    "# Parch        418 non-null    int64\n",
    "sel = ['Pclass', 'SibSp', 'Parch', 'Age']\n",
    "X = train[sel]\n",
    "y = train['Survived']\n",
    "\n",
    "X_train, X_test, y_train, y_test = train_test_split(X, y, \n",
    "                                                   stratify = y,\n",
    "                                                   test_size = 0.3,\n",
    "                                                   random_state = 0)"
   ]
  },
  {
   "cell_type": "code",
   "execution_count": 12,
   "id": "afd05993",
   "metadata": {
    "execution": {
     "iopub.execute_input": "2022-07-28T03:19:09.058031Z",
     "iopub.status.busy": "2022-07-28T03:19:09.057686Z",
     "iopub.status.idle": "2022-07-28T03:19:09.071843Z",
     "shell.execute_reply": "2022-07-28T03:19:09.071079Z"
    },
    "papermill": {
     "duration": 0.023128,
     "end_time": "2022-07-28T03:19:09.074102",
     "exception": false,
     "start_time": "2022-07-28T03:19:09.050974",
     "status": "completed"
    },
    "tags": []
   },
   "outputs": [
    {
     "name": "stdout",
     "output_type": "stream",
     "text": [
      "0.8571428571428571\n",
      "0.7014925373134329\n"
     ]
    }
   ],
   "source": [
    "model = DecisionTreeClassifier()\n",
    "model.fit(X_train, y_train)\n",
    "\n",
    "print(model.score(X_train, y_train))\n",
    "print(model.score(X_test, y_test))"
   ]
  },
  {
   "cell_type": "code",
   "execution_count": 13,
   "id": "71674687",
   "metadata": {
    "execution": {
     "iopub.execute_input": "2022-07-28T03:19:09.087286Z",
     "iopub.status.busy": "2022-07-28T03:19:09.086637Z",
     "iopub.status.idle": "2022-07-28T03:19:09.136107Z",
     "shell.execute_reply": "2022-07-28T03:19:09.134981Z"
    },
    "papermill": {
     "duration": 0.058764,
     "end_time": "2022-07-28T03:19:09.138596",
     "exception": false,
     "start_time": "2022-07-28T03:19:09.079832",
     "status": "completed"
    },
    "tags": []
   },
   "outputs": [
    {
     "name": "stdout",
     "output_type": "stream",
     "text": [
      "depth : 1\n",
      "0.6741573033707865\n",
      "0.6529850746268657\n",
      "depth : 2\n",
      "0.680577849117175\n",
      "0.6604477611940298\n",
      "depth : 3\n",
      "0.7191011235955056\n",
      "0.7014925373134329\n",
      "depth : 4\n",
      "0.7319422150882825\n",
      "0.7238805970149254\n",
      "depth : 5\n",
      "0.7495987158908507\n",
      "0.7164179104477612\n",
      "depth : 6\n",
      "0.7640449438202247\n",
      "0.6865671641791045\n",
      "depth : 7\n",
      "0.7881219903691814\n",
      "0.7164179104477612\n",
      "depth : 8\n",
      "0.8025682182985554\n",
      "0.7238805970149254\n"
     ]
    }
   ],
   "source": [
    "for i in range(1,9,1):\n",
    "    model = DecisionTreeClassifier(max_depth=i, random_state=0)\n",
    "    model.fit(X_train, y_train)\n",
    "    \n",
    "    print(f\"depth : {i}\")\n",
    "    print(model.score(X_train, y_train))\n",
    "    print(model.score(X_test, y_test))"
   ]
  },
  {
   "cell_type": "code",
   "execution_count": 14,
   "id": "725072db",
   "metadata": {
    "execution": {
     "iopub.execute_input": "2022-07-28T03:19:09.152400Z",
     "iopub.status.busy": "2022-07-28T03:19:09.151471Z",
     "iopub.status.idle": "2022-07-28T03:19:09.164766Z",
     "shell.execute_reply": "2022-07-28T03:19:09.163280Z"
    },
    "papermill": {
     "duration": 0.022404,
     "end_time": "2022-07-28T03:19:09.166965",
     "exception": false,
     "start_time": "2022-07-28T03:19:09.144561",
     "status": "completed"
    },
    "tags": []
   },
   "outputs": [
    {
     "name": "stdout",
     "output_type": "stream",
     "text": [
      "<class 'pandas.core.frame.DataFrame'>\n",
      "RangeIndex: 418 entries, 0 to 417\n",
      "Data columns (total 11 columns):\n",
      " #   Column       Non-Null Count  Dtype  \n",
      "---  ------       --------------  -----  \n",
      " 0   PassengerId  418 non-null    int64  \n",
      " 1   Pclass       418 non-null    int64  \n",
      " 2   Name         418 non-null    object \n",
      " 3   Sex          418 non-null    object \n",
      " 4   Age          418 non-null    float64\n",
      " 5   SibSp        418 non-null    int64  \n",
      " 6   Parch        418 non-null    int64  \n",
      " 7   Ticket       418 non-null    object \n",
      " 8   Fare         417 non-null    float64\n",
      " 9   Cabin        91 non-null     object \n",
      " 10  Embarked     418 non-null    object \n",
      "dtypes: float64(2), int64(4), object(5)\n",
      "memory usage: 36.0+ KB\n",
      "['Pclass', 'SibSp', 'Parch', 'Age']\n"
     ]
    }
   ],
   "source": [
    "test.info()\n",
    "print(sel)\n",
    "X_last_test = test[sel]"
   ]
  },
  {
   "cell_type": "code",
   "execution_count": 15,
   "id": "f20600ae",
   "metadata": {
    "execution": {
     "iopub.execute_input": "2022-07-28T03:19:09.180107Z",
     "iopub.status.busy": "2022-07-28T03:19:09.179746Z",
     "iopub.status.idle": "2022-07-28T03:19:09.191894Z",
     "shell.execute_reply": "2022-07-28T03:19:09.191053Z"
    },
    "papermill": {
     "duration": 0.020996,
     "end_time": "2022-07-28T03:19:09.193925",
     "exception": false,
     "start_time": "2022-07-28T03:19:09.172929",
     "status": "completed"
    },
    "tags": []
   },
   "outputs": [
    {
     "data": {
      "text/plain": [
       "array([0, 0, 1, 0, 0, 1, 0, 0, 0, 0, 0, 0, 1, 1, 1, 0, 0, 0, 0, 0, 1, 1,\n",
       "       1, 0, 1, 0, 1, 0, 1, 0, 0, 0, 1, 0, 1, 0, 0, 0, 0, 0, 0, 1, 0, 0,\n",
       "       0, 0, 1, 0, 0, 0, 1, 0, 0, 0, 0, 0, 0, 0, 0, 1, 0, 0, 0, 0, 1, 0,\n",
       "       0, 0, 1, 1, 0, 0, 0, 1, 1, 1, 0, 1, 0, 0, 1, 1, 1, 0, 0, 0, 0, 0,\n",
       "       0, 1, 0, 0, 0, 0, 1, 0, 1, 0, 0, 0, 0, 0, 0, 0, 0, 0, 0, 0, 0, 0,\n",
       "       0, 0, 1, 0, 1, 0, 0, 0, 1, 0, 0, 0, 1, 0, 0, 0, 0, 0, 0, 0, 0, 0,\n",
       "       0, 0, 0, 0, 0, 0, 0, 0, 0, 1, 1, 1, 1, 0, 1, 0, 1, 1, 1, 0, 0, 0,\n",
       "       0, 0, 0, 0, 1, 0, 0, 1, 0, 0, 0, 0, 1, 1, 1, 0, 0, 0, 0, 0, 0, 1,\n",
       "       0, 1, 1, 0, 0, 1, 1, 0, 0, 0, 0, 0, 0, 0, 0, 1, 1, 1, 1, 0, 1, 0,\n",
       "       0, 0, 0, 1, 1, 1, 0, 1, 0, 0, 1, 0, 0, 0, 0, 1, 1, 1, 0, 1, 1, 0,\n",
       "       0, 0, 0, 0, 0, 0, 0, 0, 0, 0, 0, 1, 0, 0, 0, 0, 1, 0, 1, 1, 0, 1,\n",
       "       1, 0, 0, 0, 0, 1, 0, 0, 1, 0, 1, 0, 0, 0, 0, 0, 0, 0, 1, 0, 1, 0,\n",
       "       0, 0, 1, 0, 0, 0, 0, 0, 1, 0, 0, 0, 1, 0, 0, 0, 0, 1, 0, 1, 0, 0,\n",
       "       0, 1, 0, 0, 1, 0, 0, 1, 0, 0, 1, 0, 1, 0, 0, 0, 1, 0, 0, 0, 1, 1,\n",
       "       1, 0, 0, 0, 0, 0, 0, 0, 1, 0, 0, 0, 0, 0, 0, 1, 1, 0, 1, 0, 0, 0,\n",
       "       1, 1, 0, 0, 0, 1, 0, 0, 0, 0, 0, 0, 0, 1, 0, 1, 0, 0, 0, 0, 1, 0,\n",
       "       0, 1, 1, 0, 1, 0, 0, 0, 0, 1, 0, 0, 1, 0, 0, 0, 1, 0, 0, 1, 1, 0,\n",
       "       1, 1, 0, 0, 0, 0, 0, 0, 0, 0, 0, 1, 0, 0, 0, 0, 1, 1, 1, 0, 0, 1,\n",
       "       0, 1, 0, 0, 1, 0, 1, 1, 0, 0, 0, 1, 0, 1, 0, 0, 0, 0, 1, 0, 0, 0])"
      ]
     },
     "execution_count": 15,
     "metadata": {},
     "output_type": "execute_result"
    }
   ],
   "source": [
    "model = DecisionTreeClassifier(max_depth=7, random_state=0)\n",
    "model.fit(X_train, y_train)\n",
    "\n",
    "pred = model.predict(X_last_test)\n",
    "pred"
   ]
  },
  {
   "cell_type": "code",
   "execution_count": 16,
   "id": "6b5a5309",
   "metadata": {
    "execution": {
     "iopub.execute_input": "2022-07-28T03:19:09.207646Z",
     "iopub.status.busy": "2022-07-28T03:19:09.207066Z",
     "iopub.status.idle": "2022-07-28T03:19:09.215324Z",
     "shell.execute_reply": "2022-07-28T03:19:09.214486Z"
    },
    "papermill": {
     "duration": 0.017523,
     "end_time": "2022-07-28T03:19:09.217624",
     "exception": false,
     "start_time": "2022-07-28T03:19:09.200101",
     "status": "completed"
    },
    "tags": []
   },
   "outputs": [],
   "source": [
    "sub['Survived'] = pred\n",
    "sub.to_csv(\"second_model.csv\", index=False)"
   ]
  },
  {
   "cell_type": "code",
   "execution_count": 17,
   "id": "6bb5bba5",
   "metadata": {
    "execution": {
     "iopub.execute_input": "2022-07-28T03:19:09.231503Z",
     "iopub.status.busy": "2022-07-28T03:19:09.230516Z",
     "iopub.status.idle": "2022-07-28T03:19:09.234825Z",
     "shell.execute_reply": "2022-07-28T03:19:09.234067Z"
    },
    "papermill": {
     "duration": 0.013306,
     "end_time": "2022-07-28T03:19:09.236933",
     "exception": false,
     "start_time": "2022-07-28T03:19:09.223627",
     "status": "completed"
    },
    "tags": []
   },
   "outputs": [],
   "source": [
    "# 0.68899"
   ]
  }
 ],
 "metadata": {
  "kernelspec": {
   "display_name": "Python 3",
   "language": "python",
   "name": "python3"
  },
  "language_info": {
   "codemirror_mode": {
    "name": "ipython",
    "version": 3
   },
   "file_extension": ".py",
   "mimetype": "text/x-python",
   "name": "python",
   "nbconvert_exporter": "python",
   "pygments_lexer": "ipython3",
   "version": "3.7.12"
  },
  "papermill": {
   "default_parameters": {},
   "duration": 11.399879,
   "end_time": "2022-07-28T03:19:09.964388",
   "environment_variables": {},
   "exception": null,
   "input_path": "__notebook__.ipynb",
   "output_path": "__notebook__.ipynb",
   "parameters": {},
   "start_time": "2022-07-28T03:18:58.564509",
   "version": "2.3.4"
  }
 },
 "nbformat": 4,
 "nbformat_minor": 5
}
